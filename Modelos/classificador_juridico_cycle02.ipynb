{
 "cells": [
  {
   "cell_type": "markdown",
   "metadata": {},
   "source": [
    "# Mentoria Data Science Academy"
   ]
  },
  {
   "cell_type": "markdown",
   "metadata": {},
   "source": [
    "## Imports"
   ]
  },
  {
   "cell_type": "code",
   "execution_count": 1,
   "metadata": {
    "ExecuteTime": {
     "end_time": "2021-08-11T07:26:59.710319Z",
     "start_time": "2021-08-11T07:26:56.456017Z"
    }
   },
   "outputs": [
    {
     "name": "stderr",
     "output_type": "stream",
     "text": [
      "[nltk_data] Downloading package stopwords to\n",
      "[nltk_data]     C:\\Users\\joaop\\AppData\\Roaming\\nltk_data...\n",
      "[nltk_data]   Package stopwords is already up-to-date!\n",
      "[nltk_data] Downloading package rslp to\n",
      "[nltk_data]     C:\\Users\\joaop\\AppData\\Roaming\\nltk_data...\n",
      "[nltk_data]   Package rslp is already up-to-date!\n"
     ]
    },
    {
     "data": {
      "text/plain": [
       "True"
      ]
     },
     "execution_count": 1,
     "metadata": {},
     "output_type": "execute_result"
    }
   ],
   "source": [
    "import numpy as np\n",
    "import pandas as pd\n",
    "import re\n",
    "import string\n",
    "import nltk\n",
    "import os\n",
    "\n",
    "from sklearn.model_selection import train_test_split, StratifiedKFold\n",
    "from sklearn.feature_extraction.text import TfidfVectorizer\n",
    "from sklearn.naive_bayes import MultinomialNB\n",
    "from sklearn.svm import SVC\n",
    "from sklearn.preprocessing import LabelEncoder\n",
    "from sklearn.metrics import accuracy_score, precision_score, cohen_kappa_score, classification_report, confusion_matrix\n",
    "\n",
    "import seaborn as sns\n",
    "import matplotlib.pyplot as plt\n",
    "\n",
    "# Downloads do pacote NLTK\n",
    "nltk.download('stopwords')\n",
    "nltk.download('rslp')"
   ]
  },
  {
   "cell_type": "markdown",
   "metadata": {
    "ExecuteTime": {
     "end_time": "2021-07-19T19:18:43.393429Z",
     "start_time": "2021-07-19T19:18:43.373439Z"
    },
    "heading_collapsed": true
   },
   "source": [
    "## 0.0 Carregando os Dados"
   ]
  },
  {
   "cell_type": "code",
   "execution_count": 2,
   "metadata": {
    "ExecuteTime": {
     "end_time": "2021-08-10T22:47:05.065515Z",
     "start_time": "2021-08-10T22:47:03.866116Z"
    },
    "hidden": true
   },
   "outputs": [],
   "source": [
    "data_path = 'dados'\n",
    "df1 = pd.read_csv(os.path.join(data_path, 'posts.csv'), sep = '|')\n",
    "df2 = pd.read_csv(os.path.join(data_path, 'posts_2.csv'), sep = '|')\n",
    "df3 = pd.read_csv(os.path.join(data_path, 'posts_3.csv'), sep = '|')"
   ]
  },
  {
   "cell_type": "code",
   "execution_count": 3,
   "metadata": {
    "ExecuteTime": {
     "end_time": "2021-08-10T22:47:05.112509Z",
     "start_time": "2021-08-10T22:47:05.068511Z"
    },
    "hidden": true
   },
   "outputs": [
    {
     "data": {
      "text/html": [
       "<div>\n",
       "<style scoped>\n",
       "    .dataframe tbody tr th:only-of-type {\n",
       "        vertical-align: middle;\n",
       "    }\n",
       "\n",
       "    .dataframe tbody tr th {\n",
       "        vertical-align: top;\n",
       "    }\n",
       "\n",
       "    .dataframe thead th {\n",
       "        text-align: right;\n",
       "    }\n",
       "</style>\n",
       "<table border=\"1\" class=\"dataframe\">\n",
       "  <thead>\n",
       "    <tr style=\"text-align: right;\">\n",
       "      <th></th>\n",
       "      <th>title</th>\n",
       "      <th>date</th>\n",
       "      <th>answers</th>\n",
       "      <th>visits</th>\n",
       "      <th>url</th>\n",
       "      <th>post</th>\n",
       "      <th>area</th>\n",
       "    </tr>\n",
       "  </thead>\n",
       "  <tbody>\n",
       "    <tr>\n",
       "      <th>0</th>\n",
       "      <td>recurso cabível exceção de preexecutividade re...</td>\n",
       "      <td>11 de Março de 2021</td>\n",
       "      <td>1</td>\n",
       "      <td>1</td>\n",
       "      <td>threads/recurso-cabivel-excecao-de-preexecutiv...</td>\n",
       "      <td>\\r\\n\\t\\t\\t\\t\\t\\r\\n\\t\\t\\t\\t\\tBoas tardes, caros...</td>\n",
       "      <td>direito-do-trabalho.17</td>\n",
       "    </tr>\n",
       "    <tr>\n",
       "      <th>1</th>\n",
       "      <td>Liquidez - Reforma Trabalhista</td>\n",
       "      <td>06 de Março de 2021</td>\n",
       "      <td>0</td>\n",
       "      <td>6</td>\n",
       "      <td>threads/liquidez-reforma-trabalhista.23092/</td>\n",
       "      <td>\\r\\n\\t\\t\\t\\t\\t\\r\\n\\t\\t\\t\\t\\tBoa noite, colegas...</td>\n",
       "      <td>direito-do-trabalho.17</td>\n",
       "    </tr>\n",
       "    <tr>\n",
       "      <th>2</th>\n",
       "      <td>Rito Sumário - sentença irrecorrível?</td>\n",
       "      <td>06 de Março de 2021</td>\n",
       "      <td>0</td>\n",
       "      <td>6</td>\n",
       "      <td>threads/rito-sumario-sentenca-irrecorrivel.23091/</td>\n",
       "      <td>\\r\\n\\t\\t\\t\\t\\t\\r\\n\\t\\t\\t\\t\\tOlá, colegas.\\r\\n\\...</td>\n",
       "      <td>direito-do-trabalho.17</td>\n",
       "    </tr>\n",
       "    <tr>\n",
       "      <th>3</th>\n",
       "      <td>DISPENSA DE FUNCIONARIO AFASTADO EM ESPECIE DE...</td>\n",
       "      <td>27 de Janeiro de 2021</td>\n",
       "      <td>0</td>\n",
       "      <td>9</td>\n",
       "      <td>threads/dispensa-de-funcionario-afastado-em-es...</td>\n",
       "      <td>\\r\\n\\t\\t\\t\\t\\t\\r\\n\\t\\t\\t\\t\\tPrezados, Drs.\\r\\n...</td>\n",
       "      <td>direito-do-trabalho.17</td>\n",
       "    </tr>\n",
       "    <tr>\n",
       "      <th>4</th>\n",
       "      <td>Cálculo Trabalhista - contador ou advogado?</td>\n",
       "      <td>03 de Maio de 2018</td>\n",
       "      <td>8</td>\n",
       "      <td>1</td>\n",
       "      <td>threads/calculo-trabalhista-contador-ou-advoga...</td>\n",
       "      <td>\\r\\n\\t\\t\\t\\t\\t\\r\\n\\t\\t\\t\\t\\tQueridos (as),\\r\\n...</td>\n",
       "      <td>direito-do-trabalho.17</td>\n",
       "    </tr>\n",
       "  </tbody>\n",
       "</table>\n",
       "</div>"
      ],
      "text/plain": [
       "                                               title                   date  \\\n",
       "0  recurso cabível exceção de preexecutividade re...    11 de Março de 2021   \n",
       "1                     Liquidez - Reforma Trabalhista    06 de Março de 2021   \n",
       "2              Rito Sumário - sentença irrecorrível?    06 de Março de 2021   \n",
       "3  DISPENSA DE FUNCIONARIO AFASTADO EM ESPECIE DE...  27 de Janeiro de 2021   \n",
       "4        Cálculo Trabalhista - contador ou advogado?     03 de Maio de 2018   \n",
       "\n",
       "   answers  visits                                                url  \\\n",
       "0        1       1  threads/recurso-cabivel-excecao-de-preexecutiv...   \n",
       "1        0       6        threads/liquidez-reforma-trabalhista.23092/   \n",
       "2        0       6  threads/rito-sumario-sentenca-irrecorrivel.23091/   \n",
       "3        0       9  threads/dispensa-de-funcionario-afastado-em-es...   \n",
       "4        8       1  threads/calculo-trabalhista-contador-ou-advoga...   \n",
       "\n",
       "                                                post                    area  \n",
       "0  \\r\\n\\t\\t\\t\\t\\t\\r\\n\\t\\t\\t\\t\\tBoas tardes, caros...  direito-do-trabalho.17  \n",
       "1  \\r\\n\\t\\t\\t\\t\\t\\r\\n\\t\\t\\t\\t\\tBoa noite, colegas...  direito-do-trabalho.17  \n",
       "2  \\r\\n\\t\\t\\t\\t\\t\\r\\n\\t\\t\\t\\t\\tOlá, colegas.\\r\\n\\...  direito-do-trabalho.17  \n",
       "3  \\r\\n\\t\\t\\t\\t\\t\\r\\n\\t\\t\\t\\t\\tPrezados, Drs.\\r\\n...  direito-do-trabalho.17  \n",
       "4  \\r\\n\\t\\t\\t\\t\\t\\r\\n\\t\\t\\t\\t\\tQueridos (as),\\r\\n...  direito-do-trabalho.17  "
      ]
     },
     "execution_count": 3,
     "metadata": {},
     "output_type": "execute_result"
    }
   ],
   "source": [
    "df1.head()"
   ]
  },
  {
   "cell_type": "code",
   "execution_count": 4,
   "metadata": {
    "ExecuteTime": {
     "end_time": "2021-08-10T22:47:05.143512Z",
     "start_time": "2021-08-10T22:47:05.115511Z"
    },
    "hidden": true
   },
   "outputs": [],
   "source": [
    "df = pd.concat([df1, df2, df3], axis = 0)"
   ]
  },
  {
   "cell_type": "code",
   "execution_count": 5,
   "metadata": {
    "ExecuteTime": {
     "end_time": "2021-08-10T22:47:05.175506Z",
     "start_time": "2021-08-10T22:47:05.146510Z"
    },
    "hidden": true
   },
   "outputs": [],
   "source": [
    "# As colunas visits e likes não estão presentes em todos os dfs, então vamos remove-las \n",
    "df.drop(columns=['visits', 'likes'], inplace=True)"
   ]
  },
  {
   "cell_type": "code",
   "execution_count": 6,
   "metadata": {
    "ExecuteTime": {
     "end_time": "2021-08-10T22:47:05.207566Z",
     "start_time": "2021-08-10T22:47:05.178512Z"
    },
    "hidden": true,
    "scrolled": false
   },
   "outputs": [
    {
     "data": {
      "text/html": [
       "<div>\n",
       "<style scoped>\n",
       "    .dataframe tbody tr th:only-of-type {\n",
       "        vertical-align: middle;\n",
       "    }\n",
       "\n",
       "    .dataframe tbody tr th {\n",
       "        vertical-align: top;\n",
       "    }\n",
       "\n",
       "    .dataframe thead th {\n",
       "        text-align: right;\n",
       "    }\n",
       "</style>\n",
       "<table border=\"1\" class=\"dataframe\">\n",
       "  <thead>\n",
       "    <tr style=\"text-align: right;\">\n",
       "      <th></th>\n",
       "      <th>title</th>\n",
       "      <th>date</th>\n",
       "      <th>answers</th>\n",
       "      <th>url</th>\n",
       "      <th>post</th>\n",
       "      <th>area</th>\n",
       "    </tr>\n",
       "  </thead>\n",
       "  <tbody>\n",
       "    <tr>\n",
       "      <th>0</th>\n",
       "      <td>recurso cabível exceção de preexecutividade re...</td>\n",
       "      <td>11 de Março de 2021</td>\n",
       "      <td>1</td>\n",
       "      <td>threads/recurso-cabivel-excecao-de-preexecutiv...</td>\n",
       "      <td>\\r\\n\\t\\t\\t\\t\\t\\r\\n\\t\\t\\t\\t\\tBoas tardes, caros...</td>\n",
       "      <td>direito-do-trabalho.17</td>\n",
       "    </tr>\n",
       "    <tr>\n",
       "      <th>1</th>\n",
       "      <td>Liquidez - Reforma Trabalhista</td>\n",
       "      <td>06 de Março de 2021</td>\n",
       "      <td>0</td>\n",
       "      <td>threads/liquidez-reforma-trabalhista.23092/</td>\n",
       "      <td>\\r\\n\\t\\t\\t\\t\\t\\r\\n\\t\\t\\t\\t\\tBoa noite, colegas...</td>\n",
       "      <td>direito-do-trabalho.17</td>\n",
       "    </tr>\n",
       "    <tr>\n",
       "      <th>2</th>\n",
       "      <td>Rito Sumário - sentença irrecorrível?</td>\n",
       "      <td>06 de Março de 2021</td>\n",
       "      <td>0</td>\n",
       "      <td>threads/rito-sumario-sentenca-irrecorrivel.23091/</td>\n",
       "      <td>\\r\\n\\t\\t\\t\\t\\t\\r\\n\\t\\t\\t\\t\\tOlá, colegas.\\r\\n\\...</td>\n",
       "      <td>direito-do-trabalho.17</td>\n",
       "    </tr>\n",
       "    <tr>\n",
       "      <th>3</th>\n",
       "      <td>DISPENSA DE FUNCIONARIO AFASTADO EM ESPECIE DE...</td>\n",
       "      <td>27 de Janeiro de 2021</td>\n",
       "      <td>0</td>\n",
       "      <td>threads/dispensa-de-funcionario-afastado-em-es...</td>\n",
       "      <td>\\r\\n\\t\\t\\t\\t\\t\\r\\n\\t\\t\\t\\t\\tPrezados, Drs.\\r\\n...</td>\n",
       "      <td>direito-do-trabalho.17</td>\n",
       "    </tr>\n",
       "    <tr>\n",
       "      <th>4</th>\n",
       "      <td>Cálculo Trabalhista - contador ou advogado?</td>\n",
       "      <td>03 de Maio de 2018</td>\n",
       "      <td>8</td>\n",
       "      <td>threads/calculo-trabalhista-contador-ou-advoga...</td>\n",
       "      <td>\\r\\n\\t\\t\\t\\t\\t\\r\\n\\t\\t\\t\\t\\tQueridos (as),\\r\\n...</td>\n",
       "      <td>direito-do-trabalho.17</td>\n",
       "    </tr>\n",
       "  </tbody>\n",
       "</table>\n",
       "</div>"
      ],
      "text/plain": [
       "                                               title                   date  \\\n",
       "0  recurso cabível exceção de preexecutividade re...    11 de Março de 2021   \n",
       "1                     Liquidez - Reforma Trabalhista    06 de Março de 2021   \n",
       "2              Rito Sumário - sentença irrecorrível?    06 de Março de 2021   \n",
       "3  DISPENSA DE FUNCIONARIO AFASTADO EM ESPECIE DE...  27 de Janeiro de 2021   \n",
       "4        Cálculo Trabalhista - contador ou advogado?     03 de Maio de 2018   \n",
       "\n",
       "   answers                                                url  \\\n",
       "0        1  threads/recurso-cabivel-excecao-de-preexecutiv...   \n",
       "1        0        threads/liquidez-reforma-trabalhista.23092/   \n",
       "2        0  threads/rito-sumario-sentenca-irrecorrivel.23091/   \n",
       "3        0  threads/dispensa-de-funcionario-afastado-em-es...   \n",
       "4        8  threads/calculo-trabalhista-contador-ou-advoga...   \n",
       "\n",
       "                                                post                    area  \n",
       "0  \\r\\n\\t\\t\\t\\t\\t\\r\\n\\t\\t\\t\\t\\tBoas tardes, caros...  direito-do-trabalho.17  \n",
       "1  \\r\\n\\t\\t\\t\\t\\t\\r\\n\\t\\t\\t\\t\\tBoa noite, colegas...  direito-do-trabalho.17  \n",
       "2  \\r\\n\\t\\t\\t\\t\\t\\r\\n\\t\\t\\t\\t\\tOlá, colegas.\\r\\n\\...  direito-do-trabalho.17  \n",
       "3  \\r\\n\\t\\t\\t\\t\\t\\r\\n\\t\\t\\t\\t\\tPrezados, Drs.\\r\\n...  direito-do-trabalho.17  \n",
       "4  \\r\\n\\t\\t\\t\\t\\t\\r\\n\\t\\t\\t\\t\\tQueridos (as),\\r\\n...  direito-do-trabalho.17  "
      ]
     },
     "execution_count": 6,
     "metadata": {},
     "output_type": "execute_result"
    }
   ],
   "source": [
    "df.head()"
   ]
  },
  {
   "cell_type": "code",
   "execution_count": 7,
   "metadata": {
    "ExecuteTime": {
     "end_time": "2021-08-10T22:47:05.238512Z",
     "start_time": "2021-08-10T22:47:05.210512Z"
    },
    "hidden": true
   },
   "outputs": [],
   "source": [
    "df['area'] = df['area'].apply(lambda x: x.split('.')[0])"
   ]
  },
  {
   "cell_type": "markdown",
   "metadata": {},
   "source": [
    "## 1.0 Descrição dos dados"
   ]
  },
  {
   "cell_type": "markdown",
   "metadata": {},
   "source": [
    "### 1.1 Dimensão dos dados"
   ]
  },
  {
   "cell_type": "code",
   "execution_count": 8,
   "metadata": {
    "ExecuteTime": {
     "end_time": "2021-08-10T22:47:05.253513Z",
     "start_time": "2021-08-10T22:47:05.243513Z"
    },
    "scrolled": true
   },
   "outputs": [
    {
     "name": "stdout",
     "output_type": "stream",
     "text": [
      "Número de exemplos: 39016\n",
      "Número de colunas: 6\n"
     ]
    }
   ],
   "source": [
    "print(\"Número de exemplos:\", df.shape[0])\n",
    "print(\"Número de colunas:\", df.shape[1])"
   ]
  },
  {
   "cell_type": "markdown",
   "metadata": {},
   "source": [
    "### 1.2 Tipo das colunas"
   ]
  },
  {
   "cell_type": "code",
   "execution_count": 9,
   "metadata": {
    "ExecuteTime": {
     "end_time": "2021-08-10T22:47:05.269512Z",
     "start_time": "2021-08-10T22:47:05.258510Z"
    },
    "scrolled": true
   },
   "outputs": [
    {
     "data": {
      "text/plain": [
       "title      object\n",
       "date       object\n",
       "answers     int64\n",
       "url        object\n",
       "post       object\n",
       "area       object\n",
       "dtype: object"
      ]
     },
     "execution_count": 9,
     "metadata": {},
     "output_type": "execute_result"
    }
   ],
   "source": [
    "# Mostra o tipo de cada variável\n",
    "df.dtypes"
   ]
  },
  {
   "cell_type": "markdown",
   "metadata": {},
   "source": [
    "Precisamos converter a variável date para formato de data para então podermos utilizar informações como dia da semana, fim de semana, ou há quantos meses/anos foi feita a pergunta."
   ]
  },
  {
   "cell_type": "markdown",
   "metadata": {},
   "source": [
    "OBS - João: Pensando no problema de negócio, apenas os textos devem ser utilizados, pois na hora da predição com o modelo em produção, não teremos dados de quantos dias a pergunta foi feita etc, acredito que pensando na área do problema, isso não influenciaria."
   ]
  },
  {
   "cell_type": "code",
   "execution_count": 10,
   "metadata": {
    "ExecuteTime": {
     "end_time": "2021-08-10T22:47:05.284514Z",
     "start_time": "2021-08-10T22:47:05.272512Z"
    }
   },
   "outputs": [],
   "source": [
    "# Espaço reservado para trabalhar na variável date"
   ]
  },
  {
   "cell_type": "markdown",
   "metadata": {
    "ExecuteTime": {
     "end_time": "2021-07-19T19:23:59.783562Z",
     "start_time": "2021-07-19T19:23:59.778559Z"
    }
   },
   "source": [
    "### 1.3 Variável target "
   ]
  },
  {
   "cell_type": "markdown",
   "metadata": {},
   "source": [
    "### 1.3.1 Classes únicas\n"
   ]
  },
  {
   "cell_type": "code",
   "execution_count": 11,
   "metadata": {
    "ExecuteTime": {
     "end_time": "2021-08-10T22:47:05.316509Z",
     "start_time": "2021-08-10T22:47:05.288519Z"
    },
    "scrolled": false
   },
   "outputs": [
    {
     "data": {
      "text/plain": [
       "array(['direito-do-trabalho', 'direito-de-familia',\n",
       "       'direito-administrativo',\n",
       "       'direito-civil-empresarial-e-do-consumidor',\n",
       "       'direito-penal-e-processo-penal', 'empresarial',\n",
       "       'direito-administrativo/', 'direito-do-trabalho/',\n",
       "       'direito-penal/', 'direito-processual-penal/', 'direito-civil/',\n",
       "       'direito-do-consumidor/', 'direito-de-familia/'], dtype=object)"
      ]
     },
     "execution_count": 11,
     "metadata": {},
     "output_type": "execute_result"
    }
   ],
   "source": [
    "# Check de quais classes o dataset possui\n",
    "df['area'].unique()"
   ]
  },
  {
   "cell_type": "code",
   "execution_count": 12,
   "metadata": {
    "ExecuteTime": {
     "end_time": "2021-08-10T22:47:05.331511Z",
     "start_time": "2021-08-10T22:47:05.319539Z"
    }
   },
   "outputs": [
    {
     "name": "stdout",
     "output_type": "stream",
     "text": [
      "Número de classes diferentes:  13\n"
     ]
    }
   ],
   "source": [
    "print(\"Número de classes diferentes: \", len(df['area'].unique()))"
   ]
  },
  {
   "cell_type": "code",
   "execution_count": 13,
   "metadata": {
    "ExecuteTime": {
     "end_time": "2021-08-10T22:47:05.363515Z",
     "start_time": "2021-08-10T22:47:05.334555Z"
    }
   },
   "outputs": [
    {
     "name": "stdout",
     "output_type": "stream",
     "text": [
      "Número de observações por classe:\n"
     ]
    },
    {
     "data": {
      "text/plain": [
       "area\n",
       "direito-administrativo                        368\n",
       "direito-administrativo/                      9000\n",
       "direito-civil-empresarial-e-do-consumidor    1974\n",
       "direito-civil/                               3000\n",
       "direito-de-familia                           1634\n",
       "direito-de-familia/                          1500\n",
       "direito-do-consumidor/                       1500\n",
       "direito-do-trabalho                          1172\n",
       "direito-do-trabalho/                         7500\n",
       "direito-penal-e-processo-penal                668\n",
       "direito-penal/                               6000\n",
       "direito-processual-penal/                    4500\n",
       "empresarial                                   200\n",
       "Name: area, dtype: int64"
      ]
     },
     "execution_count": 13,
     "metadata": {},
     "output_type": "execute_result"
    }
   ],
   "source": [
    "print('Número de observações por classe:')\n",
    "df.groupby('area')['area'].count()"
   ]
  },
  {
   "cell_type": "markdown",
   "metadata": {},
   "source": [
    "### 1.3.2 Reajustando as classes\n",
    "\n",
    "Algumas classes estão com textos diferentes porém indicam a mesma coisa (Ex. 'direito-do-trabalho' e 'direito-do-trabalho/'). Iremos padronizar os textos para seguir com os seguintes labels:\n",
    "\n",
    "- Administrativo\n",
    "- Civil, Empresarial e do Consumidor\n",
    "- Familia\n",
    "- Trabalho\n",
    "- Penal"
   ]
  },
  {
   "cell_type": "code",
   "execution_count": 14,
   "metadata": {
    "ExecuteTime": {
     "end_time": "2021-08-10T22:47:05.503527Z",
     "start_time": "2021-08-10T22:47:05.369512Z"
    }
   },
   "outputs": [],
   "source": [
    "df['area'] = [\n",
    "    'Administrativo' if any(x in area for x in ['administrativo']) else\n",
    "    'Civil, Empresarial e do Consumidor' if any(x in area for x in ['civil', 'empresarial', 'consumidor']) else\n",
    "    'Familia' if any(x in area for x in ['familia']) else\n",
    "    'Trabalho' if any(x in area for x in ['trabalho']) else\n",
    "    'Penal' if any(x in area for x in ['penal']) else\n",
    "    area\n",
    "    for area in df['area']\n",
    "]"
   ]
  },
  {
   "cell_type": "code",
   "execution_count": 15,
   "metadata": {
    "ExecuteTime": {
     "end_time": "2021-08-10T22:47:05.534506Z",
     "start_time": "2021-08-10T22:47:05.505522Z"
    }
   },
   "outputs": [
    {
     "data": {
      "text/plain": [
       "area\n",
       "Administrativo                         9368\n",
       "Civil, Empresarial e do Consumidor     6674\n",
       "Familia                                3134\n",
       "Penal                                 11168\n",
       "Trabalho                               8672\n",
       "Name: area, dtype: int64"
      ]
     },
     "execution_count": 15,
     "metadata": {},
     "output_type": "execute_result"
    }
   ],
   "source": [
    "df.groupby('area')['area'].count()"
   ]
  },
  {
   "cell_type": "code",
   "execution_count": 16,
   "metadata": {
    "ExecuteTime": {
     "end_time": "2021-08-10T22:47:05.550509Z",
     "start_time": "2021-08-10T22:47:05.536508Z"
    }
   },
   "outputs": [
    {
     "name": "stdout",
     "output_type": "stream",
     "text": [
      "Número de classes diferentes:  5\n"
     ]
    }
   ],
   "source": [
    "print(\"Número de classes diferentes: \", len(df['area'].unique()))"
   ]
  },
  {
   "cell_type": "markdown",
   "metadata": {},
   "source": [
    "### 1.3.3 Verificando o balanceamento das classes"
   ]
  },
  {
   "cell_type": "code",
   "execution_count": 17,
   "metadata": {
    "ExecuteTime": {
     "end_time": "2021-08-10T22:47:05.628510Z",
     "start_time": "2021-08-10T22:47:05.557513Z"
    },
    "scrolled": true
   },
   "outputs": [
    {
     "data": {
      "text/plain": [
       "Penal                                 28.624154\n",
       "Administrativo                        24.010662\n",
       "Trabalho                              22.226779\n",
       "Civil, Empresarial e do Consumidor    17.105803\n",
       "Familia                                8.032602\n",
       "Name: area, dtype: float64"
      ]
     },
     "execution_count": 17,
     "metadata": {},
     "output_type": "execute_result"
    }
   ],
   "source": [
    "# Verifica em porcentagem o balanço das classes\n",
    "df['area'].value_counts(normalize=True)*100"
   ]
  },
  {
   "cell_type": "markdown",
   "metadata": {},
   "source": [
    " ## 2.0 Limpeza dos dados"
   ]
  },
  {
   "cell_type": "markdown",
   "metadata": {},
   "source": [
    "### 2.1 Visualizando os dados em formato RAW"
   ]
  },
  {
   "cell_type": "code",
   "execution_count": 18,
   "metadata": {
    "ExecuteTime": {
     "end_time": "2021-08-10T22:47:05.644510Z",
     "start_time": "2021-08-10T22:47:05.633510Z"
    },
    "scrolled": true
   },
   "outputs": [
    {
     "name": "stdout",
     "output_type": "stream",
     "text": [
      "'\\r\\n\\t\\t\\t\\t\\t\\r\\n\\t\\t\\t\\t\\tBoas tardes, caros colegas\\r\\n\\r\\nAntes de mais nada, sinto um imenso prazer em visitar esse fórum, por ter me ajudado e muito.\\r\\nPreciso da opinião dos colegas, no seguinte assunto trabalhista.\\r\\n\\r\\nAcontece que a exceção de pre-executividade trabalhista  proposta em favor da cliente fora rejeitada, nesse caso cabe algum recurso....pois segundo uma pesquisa que efetuei, consta que o agravo de petição não é cabível por ser decisão interlocutória, agradeço desde já.\\r\\n\\t\\t\\t\\t'\n",
      "\n",
      "\n",
      "'\\r\\n\\t\\t\\t\\t\\t\\r\\n\\t\\t\\t\\t\\tBoa noite, colegas.\\r\\n\\r\\nCuido de uma ação de cobrança de contribuição sindical rural proposta pelo rito sumário. Por fim o autor requereu: \\r\\n\\r\\n\"a condenação do Réu ao pagamento da quantia atualizada do débito no importe de R$ 835,45 (oitocentos e trinta e cinco reais e quarenta e cinco centavos), referente à Contribuição Sindical Rural do(s) Exercício(s) de 2015, conforme os Demonstrativos da Constituição do Crédito ora inclusos e integrantes desta petição inicial, bem como, que seja o Réu condenado ao pagamento dos juros, multa e correção monetária (art. 600, CLT) até a data da efetiva quitação, das custas processuais e honorários advocatícios de 15%, sobre o valor da condenação. Ou seja: R$ 125,31 (cento e vinte e cinco reais e trinta e um centavos), valor este estimado com base no valor da causa.\"\\r\\n\\r\\nTendo em vista que, após o advento da Reforma Trabalhista, as iniciais devem ser líquidas, eu entendo que este pedido já estava liquidado no momento da propositura, e que o valor de juros e a correção conta-se apenas a partir da data do ajuizamento até o dia em que for efetivamente liquidado. \\r\\n\\r\\nCom o advento da nova redação do artigo 840, parágrafo 1º, parte final, pode o juiz extrapolar o valor indicado na inicial? Isto é, aplicando juros e correção pretéritos ao ajuizamento?\\r\\n\\r\\nGrata desde já.\\r\\n\\t\\t\\t\\t'\n",
      "\n",
      "\n",
      "'\\r\\n\\t\\t\\t\\t\\t\\r\\n\\t\\t\\t\\t\\tOlá, colegas.\\r\\n\\r\\nAlguém tem experiência com ações trabalhistas que seguem o rito sumário? Me deparei com uma sentença irrecorrível em que a juíza não analisou bem a matéria de defesa e as provas constantes dos autos (usou uma sentença genérica).\\r\\nAlguns falam que deve ser apresentado Recurso Extraordinário direto ao STF se houver matéria constitucional a ser debatida, outros falam que a matéria constitucional pode ser alegada em Recurso Ordinário.\\r\\n\\r\\nNão sei o que fazer. Tenho medo de seguir por um caminho e depois falarem que eu deveria ter seguido pelo outro.\\r\\n\\r\\nDesde já agradeço.\\r\\n\\t\\t\\t\\t'\n",
      "\n",
      "\n",
      "'\\r\\n\\t\\t\\t\\t\\t\\r\\n\\t\\t\\t\\t\\tPrezados, Drs.\\r\\n\\r\\nPrimeira vez que utilizo este forum, se fiz alguma coisa errada, perdao.\\r\\n\\r\\nAdvogamos para uma empresa, a qual tem um funcionario afastado erroneamente, foi afastado por auxilio doença acidentário quando era axilio doença previdenciario.\\r\\n\\r\\nNeste momento, posteriomente a 6 meses de afastamento, o funcionário retornou e a empresa quer dispensa-lo.\\r\\n\\r\\nOcorre que pelo erro de espécie de benefício, ele se enquadra na estabilidade por acidente de trabalho, qual a medida a ser tomada para empresa poder dispensa-lo neste momento, sem ter que aguardar a resposta do INSS sobre a retificação da espécie de auxilio doença?\\r\\n\\r\\nDesde já, agradeço os colegas.\\r\\n\\t\\t\\t\\t'\n",
      "\n",
      "\n",
      "'\\r\\n\\t\\t\\t\\t\\t\\r\\n\\t\\t\\t\\t\\tQueridos (as),\\r\\n\\r\\nUm cliente , por anos, recebia 1.300 reais na carteira e cerca de 2mil + comissão que variava entre 03 a 04 mil reais por fora.\\r\\nEle era vendedor de materiais hidráulicos. \\r\\nNão recebia DSR e as férias eram pagas apenas na metade.\\r\\n\\r\\nPara calcular o montante ao longo de 05 anos, devo contratar um contador especialista em cálculo trabalhista, tem algum site ou ferramenta que me auxiliaria...sou iniciante.\\r\\n\\r\\nObrigado!\\r\\n\\t\\t\\t\\t'\n",
      "\n",
      "\n",
      "'\\r\\n\\t\\t\\t\\t\\t\\r\\n\\t\\t\\t\\t\\tA empresa pode pagar alguns funcionários em um determinado dia e outros em outro dia?\\r\\n\\r\\nPor exemplo, na empresa a qual trabalho, pagou o salário de alguns funcionários no dia 31 de outubro, mas outros assim como eu não receberam. Sei que por lei a empresa pode pagar até o 5 dia útil, mas a minha duvida é se ela pode fazer essa distinção de funcionários, pagando alguns e deixando para pagar os outros em outro dia.\\r\\n\\t\\t\\t\\t'\n",
      "\n",
      "\n",
      "'\\r\\n\\t\\t\\t\\t\\t\\r\\n\\t\\t\\t\\t\\tBoa noite Doutores (as) \\r\\n\\r\\n\\r\\nPor gentileza, como vcs costumam cobrar da titulo de honorários contratuais com seus clientes reclamadas?\\r\\n\\r\\nNossa Tabela SP menciona um valor mínimo e um percentual de 20% a 30% sobre o valor da causa (do pedido) ou seja, se, ainda que por ventura o reclamante não tenha direito a 100 mil reais, mas dê a causa o valor de 100 mil reais, os honorários para defendermos a reclamada seriam nessa compreensão de R$ 20 mil reais ? seria isso?\\r\\n\\r\\nNão tenho habitualidade nessa prestação de serviços.\\r\\n\\r\\nDesde já muito obrigada.\\r\\n\\r\\nAtt.\\r\\n\\t\\t\\t\\t'\n",
      "\n",
      "\n",
      "'\\r\\n\\t\\t\\t\\t\\t\\r\\n\\t\\t\\t\\t\\tApós iniciado o cumprimento de sentença o reclamado pode fazer acordo para pagamento dos valores ao reclamante?\\r\\n\\r\\nE se esse acordo foi inferior ao devido no cumprimento de sentença o juíz irá concordar com isso?\\r\\n\\r\\nE comum o juiz não interferir no acordo ou o juiz irá exigir o pagamento integral conforme cumprimento de sentença?\\r\\n\\t\\t\\t\\t'\n",
      "\n",
      "\n",
      "'\\r\\n\\t\\t\\t\\t\\t\\r\\n\\t\\t\\t\\t\\tBoa noite.\\r\\nTenho duvidas quanto a viabilidade do uso da modalidade de demissão em comum acordo ou demissão consensual  durante o período em que um funcionário esta sob o regime de redução de jornada. É previsto que demissão por parte do empregador durante esse período só é viável ou por pagamento de multa ou normalmente porem após a mesma quantidade de meses que o empregado aderiu ao programa de redução de jornada.\\r\\n\\r\\nAssim visto, na modalidade de comum acordo, há aplicação de alguma destas condições (multa adicional ou período de estabilidade equivalente aos meses trabalhados com redução de jornada), ou esta permanece sem alterações no caso de um empregado que aderiu a redução de jornada propor demissão consensual?\\r\\n\\r\\nDesde já agradeço.\\r\\n\\t\\t\\t\\t'\n",
      "\n",
      "\n",
      "'\\r\\n\\t\\t\\t\\t\\t\\r\\n\\t\\t\\t\\t\\tQueiroz foi contratado em 20/01/2017 pelo Banco Safra para a função de caixa. Inicialmente cumpria jornada de trabalho de segunda a sexta-feira das 8h às 17h, com 1h de intervalo para repouso e alimentação, recebendo salário base de R$ 3.000,00 e gratificação de função de R$ 1.000,00. Depois de 01 (um) ano, Queiroz foi promovido para a função de gerente do atendimento, passando a perceber salário de R$ 4.000,00 e gratificação de R$ 2.000,00. Nesse período, a sua jornada era das 09h às 21h, de segunda-feira a sexta-feira, com 01h de intervalo intrajornada. Em janeiro/2019 Queiroz foi novamente promovido, alçando o cargo de gerente geral da agência onde trabalhava. Ocorre que no início deste ano (janeiro/2020) Queiroz foi dispensado. Na dúvida sobre seus direitos, procurou um advogado (você). Durante a entrevista Queiroz te relata que durante o contrato jamais recebeu horas extras e que gostaria de saber se teria esse direito. Mais ainda, Queiroz gostaria de saber quanto isso viria a representar em média por mês, em cada período. Na condição de advogado de Queiroz, qual seu parecer?\\r\\n\\t\\t\\t\\t'\n",
      "\n",
      "\n"
     ]
    }
   ],
   "source": [
    "# Printando as 10 primeiras strings em formato raw\n",
    "for i, post in enumerate(df['post'][:10]):\n",
    "    print(repr(df['post'].iloc[i]))\n",
    "    print('\\n')"
   ]
  },
  {
   "cell_type": "markdown",
   "metadata": {},
   "source": [
    "### 2.2 Criando um Pipeline de Limpeza"
   ]
  },
  {
   "cell_type": "code",
   "execution_count": 19,
   "metadata": {
    "ExecuteTime": {
     "end_time": "2021-08-10T22:47:05.659508Z",
     "start_time": "2021-08-10T22:47:05.647515Z"
    }
   },
   "outputs": [],
   "source": [
    "# Essa função substitui mais de um espaço em sequência (\\n\\t\\t\\t\\t) por apenas um espaço\n",
    "def remove_seq_breaklines(text):\n",
    "    clean_text = re.sub('\\s{2,}', ' ', text)\n",
    "    return clean_text"
   ]
  },
  {
   "cell_type": "code",
   "execution_count": 20,
   "metadata": {
    "ExecuteTime": {
     "end_time": "2021-08-10T22:47:05.675518Z",
     "start_time": "2021-08-10T22:47:05.663512Z"
    }
   },
   "outputs": [],
   "source": [
    "# Essa função substitui \\n por um espaço\n",
    "def remove_breaklines(text):\n",
    "    clean_text = re.sub('\\n', ' ', text)\n",
    "    return clean_text"
   ]
  },
  {
   "cell_type": "code",
   "execution_count": 21,
   "metadata": {
    "ExecuteTime": {
     "end_time": "2021-08-10T22:47:05.693517Z",
     "start_time": "2021-08-10T22:47:05.679514Z"
    }
   },
   "outputs": [],
   "source": [
    "def remove_seq_spaces(text):\n",
    "    clean_text = re.sub('[ ]{2,}', '', text)\n",
    "    return clean_text"
   ]
  },
  {
   "cell_type": "code",
   "execution_count": 23,
   "metadata": {
    "ExecuteTime": {
     "end_time": "2021-08-10T22:47:05.723526Z",
     "start_time": "2021-08-10T22:47:05.717514Z"
    }
   },
   "outputs": [],
   "source": [
    "# Essa função remove os espaços que existem no fim e no inicio\n",
    "def remove_spaces(text):\n",
    "    clean_text = text.strip(' ')\n",
    "    clean_text\n",
    "    return clean_text"
   ]
  },
  {
   "cell_type": "code",
   "execution_count": 24,
   "metadata": {
    "ExecuteTime": {
     "end_time": "2021-08-10T22:47:05.739508Z",
     "start_time": "2021-08-10T22:47:05.727511Z"
    }
   },
   "outputs": [],
   "source": [
    "# Essa função remove as pontuações e os números (ex: datas serão removidas)\n",
    "def remove_punctuation(text):\n",
    "    clean_text  = \"\".join([char for char in text if char not in string.punctuation])\n",
    "    clean_text = re.sub('[0-9]+', '', clean_text)\n",
    "    clean_text = clean_text.replace('º', '')\n",
    "    return clean_text"
   ]
  },
  {
   "cell_type": "code",
   "execution_count": 25,
   "metadata": {
    "ExecuteTime": {
     "end_time": "2021-08-10T22:47:05.755514Z",
     "start_time": "2021-08-10T22:47:05.743513Z"
    }
   },
   "outputs": [],
   "source": [
    "# Essa função converte textos em textos lowercase \n",
    "def convert_to_lower(text):\n",
    "    return text.lower()"
   ]
  },
  {
   "cell_type": "code",
   "execution_count": 26,
   "metadata": {
    "ExecuteTime": {
     "end_time": "2021-08-10T22:47:05.771517Z",
     "start_time": "2021-08-10T22:47:05.758512Z"
    }
   },
   "outputs": [],
   "source": [
    "# Essa função remove as stopwords\n",
    "def remove_stopwords(text):\n",
    "    stopwords = nltk.corpus.stopwords.words('portuguese')\n",
    "    clean_text = [word for word in text.split(' ') if word not in stopwords]\n",
    "   \n",
    "    return \" \".join(clean_text)\n"
   ]
  },
  {
   "cell_type": "code",
   "execution_count": 27,
   "metadata": {
    "ExecuteTime": {
     "end_time": "2021-08-10T22:47:05.802516Z",
     "start_time": "2021-08-10T22:47:05.777539Z"
    }
   },
   "outputs": [],
   "source": [
    "# Essa função aplica o stemming nas palavras\n",
    "def stemmatization(text):\n",
    "    stemmer = nltk.stem.RSLPStemmer()\n",
    "    split_text = text.split(' ')\n",
    "    stem_text = [stemmer.stem(word) for word in split_text if word != \"\"]\n",
    "    stem_text = \" \".join(stem_text)\n",
    "    \n",
    "    return stem_text"
   ]
  },
  {
   "cell_type": "code",
   "execution_count": 28,
   "metadata": {
    "ExecuteTime": {
     "end_time": "2021-08-10T22:47:05.818511Z",
     "start_time": "2021-08-10T22:47:05.806510Z"
    }
   },
   "outputs": [],
   "source": [
    "# Função que aplica o pipeline\n",
    "def run_clean_pipeline(text):\n",
    "    clean_text = remove_breaklines(text)\n",
    "    clean_text = remove_seq_breaklines(clean_text)\n",
    "    clean_text = remove_spaces(clean_text)\n",
    "    clean_text = remove_punctuation(clean_text)\n",
    "    clean_text = convert_to_lower(clean_text)\n",
    "    clean_text = remove_stopwords(clean_text)\n",
    "    clean_text = stemmatization(clean_text)\n",
    "\n",
    "    return clean_text\n",
    "    "
   ]
  },
  {
   "cell_type": "code",
   "execution_count": 29,
   "metadata": {
    "ExecuteTime": {
     "end_time": "2021-08-10T22:49:35.240606Z",
     "start_time": "2021-08-10T22:47:05.822535Z"
    }
   },
   "outputs": [],
   "source": [
    "# Fazendo a limpeza das linhas através do pipeline\n",
    "clean_posts = list(df['post'].apply(run_clean_pipeline))"
   ]
  },
  {
   "cell_type": "code",
   "execution_count": 30,
   "metadata": {
    "ExecuteTime": {
     "end_time": "2021-08-10T22:49:35.256509Z",
     "start_time": "2021-08-10T22:49:35.242510Z"
    },
    "scrolled": true
   },
   "outputs": [
    {
     "name": "stdout",
     "output_type": "stream",
     "text": [
      "boa tard car coleg ant nad sint imens praz visit fórum ter ajud precis opin coleg seguint assunt trabalh acontec exceç preexecut trabalh propost favor client rejeit ness cas cab algum recursopoil segund pesquis efet const agrav pet cab ser decis interlocutór agradeç desd\n",
      "\n",
      "\n",
      "boa noit coleg cuid açã cobranç contribu sindic rural propost rit sum fim autor requer conden réu pag quant atual débit import r oitocent trint cinc real quarent cinc centav refer contribu sindic rural exercíci conform demonstr constitu crédit ora inclus integr dest pet inic bem réu conden pag jur mult correç monetár art clt dat efet quit cust process honor advocatíci sobr val conden r cent vint cinc real trint centav val estim bas val caus tend vist após advent reform trabalh inic dev ser líqu ent ped liquid moment proposit val jur correç contas apen part dat ajuiz dia efetiv liquid advent nov red artig parágraf part final pod juiz extrapol val indic inic aplic jur correç pretérit ajuiz grat desd\n",
      "\n",
      "\n",
      "olá coleg alguém experi açõ trabalh segu rit sum dep sentenç irrecorr juíz analis bem matér defês prov const aut usou sentenç genér algum fal dev ser apresent recurs extraordin diret stf matér constituc ser debat outr fal matér constituc pod ser aleg recurs ordin sei faz med segu caminh fal dev ter segu outr desd agradeç\n",
      "\n",
      "\n",
      "prez dr prim vez utiliz forum fiz algum cois err perda advog empr funcionari afast errone afast auxili doenç acident axili doenç previdenciari nest moment posteri mes afast funcion retorn empr qu dispensal ocorr err espéci benefíci enquadr estabil acid trabalh med ser tom empr pod dispensal nest moment ter aguard respost ins sobr retific espéci auxili doenç desd agradeç coleg\n",
      "\n",
      "\n",
      "quer client ano receb real cart cerc mil comiss vari mil real vend mater hidrául receb dsr férias pag apen metad calcul mont long ano dev contrat cont especi cálcul trabalh algum sit ferrament auxiliarias inici obrig\n",
      "\n",
      "\n",
      "empr pod pag algum funcion determin dia outr outr dia exempl empr trabalh pag salári algum funcion dia outubr outr assim receb sei lei empr pod pag dia útil duvid pod faz distinç funcion pag algum deix pag outr outr dia\n",
      "\n",
      "\n",
      "boa noit dou gentil vc costum cobr titul honor contrat client reclam tabel sp menc val mín percent sobr val caus ped aind vent reclam direit mil real dê caus val mil real honor defend reclam ness compreens r mil real habitual ness prest serviç desd obrig att\n",
      "\n",
      "\n",
      "após inici cumpr sentenç reclam pod faz acord pag val reclam acord inferi dev cumpr sentenç juíz irá concord comum juiz interfer acord juiz irá exig pag integr conform cumpr sentenç\n",
      "\n",
      "\n",
      "boa noit duvid quant viabil uso modal demiss comum acord demiss consens dur períod funcion sob regim reduç jorn previst demiss part empreg dur períod vi pag mult norm por após mesm quant mes empreg ader program reduç jorn assim vist modal comum acord aplic algum dest cond mult adic períod estabil equival mes trabalh reduç jorn permanec alter cas empreg ader reduç jorn prop demiss consens desd agradeç\n",
      "\n",
      "\n",
      "queiroz contrat banc safr funç caix inic cumpr jorn trabalh segund sextaf h h h interval repous aliment receb salári bas r gratific funç r ano queiroz promov funç gerent atend pass perceb salári r gratific r ness períod jorn h h segundaf sextaf h interval intrajorn jan queiroz nov promov alç carg gerent geral agênc ond trabalh ocorr iníci dest ano jan queiroz dispens dúv sobr direit procur advog dur entrev queiroz relat dur contrat jamal receb hor extr gost sab direit aind queiroz gost sab quant vir represent méd mê cad períod cond advog queiroz parec\n",
      "\n",
      "\n"
     ]
    }
   ],
   "source": [
    "# Printa os 10 primeiras posts após a limpeza\n",
    "for post in clean_posts[:10]:\n",
    "    print(post)\n",
    "    print('\\n')"
   ]
  },
  {
   "cell_type": "code",
   "execution_count": 31,
   "metadata": {
    "ExecuteTime": {
     "end_time": "2021-08-10T22:49:35.288509Z",
     "start_time": "2021-08-10T22:49:35.259517Z"
    }
   },
   "outputs": [],
   "source": [
    "df['clean_posts'] = clean_posts"
   ]
  },
  {
   "cell_type": "code",
   "execution_count": 50,
   "metadata": {
    "ExecuteTime": {
     "end_time": "2021-08-10T22:58:24.793761Z",
     "start_time": "2021-08-10T22:58:23.431164Z"
    }
   },
   "outputs": [],
   "source": [
    "#df.to_csv('clean_data.csv')"
   ]
  },
  {
   "cell_type": "markdown",
   "metadata": {},
   "source": [
    "## 3.0 Preparação dos Dados"
   ]
  },
  {
   "cell_type": "code",
   "execution_count": 58,
   "metadata": {
    "ExecuteTime": {
     "end_time": "2021-08-10T23:01:52.245397Z",
     "start_time": "2021-08-10T23:01:51.616525Z"
    }
   },
   "outputs": [],
   "source": [
    "df = pd.read_csv('clean_data.csv',  index_col=0)"
   ]
  },
  {
   "cell_type": "markdown",
   "metadata": {},
   "source": [
    "### 3.1 Filtragem dos dados"
   ]
  },
  {
   "cell_type": "code",
   "execution_count": 59,
   "metadata": {
    "ExecuteTime": {
     "end_time": "2021-08-10T23:01:53.057393Z",
     "start_time": "2021-08-10T23:01:53.039360Z"
    }
   },
   "outputs": [],
   "source": [
    "df = df[df['area'] != 'Familia']"
   ]
  },
  {
   "cell_type": "markdown",
   "metadata": {},
   "source": [
    "Testaremos o código sem a área \"Família\", pois é a que menos possui dados."
   ]
  },
  {
   "cell_type": "markdown",
   "metadata": {},
   "source": [
    "### 3.2 Codificação por Label"
   ]
  },
  {
   "cell_type": "code",
   "execution_count": 60,
   "metadata": {
    "ExecuteTime": {
     "end_time": "2021-08-10T23:01:54.356542Z",
     "start_time": "2021-08-10T23:01:54.335541Z"
    }
   },
   "outputs": [],
   "source": [
    "# Convertendo variáveis target para valores numéricos\n",
    "\n",
    "le = LabelEncoder()\n",
    "le.fit(df['area'])\n",
    "df['area_encoded'] = le.transform(df['area'])"
   ]
  },
  {
   "cell_type": "markdown",
   "metadata": {},
   "source": [
    "### 3.3 Split train/test"
   ]
  },
  {
   "cell_type": "code",
   "execution_count": 65,
   "metadata": {
    "ExecuteTime": {
     "end_time": "2021-08-10T23:02:56.324309Z",
     "start_time": "2021-08-10T23:02:56.304313Z"
    }
   },
   "outputs": [],
   "source": [
    "X_train, X_test, y_train, y_test = train_test_split(df[['clean_posts']], df['area_encoded'], test_size=0.33, shuffle = True, random_state = 42)\n"
   ]
  },
  {
   "cell_type": "markdown",
   "metadata": {
    "ExecuteTime": {
     "end_time": "2021-08-01T17:57:55.577533Z",
     "start_time": "2021-08-01T17:57:55.554536Z"
    }
   },
   "source": [
    "### 3.4 Transformação TF-IDF"
   ]
  },
  {
   "cell_type": "code",
   "execution_count": 73,
   "metadata": {
    "ExecuteTime": {
     "end_time": "2021-08-10T23:05:59.569627Z",
     "start_time": "2021-08-10T23:05:57.664111Z"
    }
   },
   "outputs": [],
   "source": [
    "tfidf_vectorizer = TfidfVectorizer()\n",
    "\n",
    "train_tfidf = tfidf_vectorizer.fit_transform((X_train['clean_posts'].apply(lambda x: np.str_(x)))) \n",
    "test_tfidf = tfidf_vectorizer.transform((X_test['clean_posts'].apply(lambda x: np.str_(x))))"
   ]
  },
  {
   "cell_type": "markdown",
   "metadata": {},
   "source": [
    "## 4.0 Modelo de Machine Learning"
   ]
  },
  {
   "cell_type": "markdown",
   "metadata": {},
   "source": [
    "### Multinomial Naive Bayes"
   ]
  },
  {
   "cell_type": "code",
   "execution_count": 77,
   "metadata": {
    "ExecuteTime": {
     "end_time": "2021-08-10T23:07:02.992150Z",
     "start_time": "2021-08-10T23:07:02.950147Z"
    }
   },
   "outputs": [
    {
     "data": {
      "text/plain": [
       "MultinomialNB()"
      ]
     },
     "execution_count": 77,
     "metadata": {},
     "output_type": "execute_result"
    }
   ],
   "source": [
    "model_nb = MultinomialNB()\n",
    "model_nb.fit(train_tfidf, y_train)"
   ]
  },
  {
   "cell_type": "code",
   "execution_count": 78,
   "metadata": {
    "ExecuteTime": {
     "end_time": "2021-08-10T23:07:03.007143Z",
     "start_time": "2021-08-10T23:07:02.994141Z"
    }
   },
   "outputs": [],
   "source": [
    "ypred_nb = model_nb.predict(test_tfidf)"
   ]
  },
  {
   "cell_type": "markdown",
   "metadata": {},
   "source": [
    "### SVM c/ Kernel Linear"
   ]
  },
  {
   "cell_type": "code",
   "execution_count": 79,
   "metadata": {
    "ExecuteTime": {
     "end_time": "2021-08-10T23:09:44.408076Z",
     "start_time": "2021-08-10T23:07:03.011179Z"
    }
   },
   "outputs": [
    {
     "data": {
      "text/plain": [
       "SVC(kernel='linear')"
      ]
     },
     "execution_count": 79,
     "metadata": {},
     "output_type": "execute_result"
    }
   ],
   "source": [
    "model_svm = SVC(kernel = 'linear')\n",
    "model_svm.fit(train_tfidf, y_train)"
   ]
  },
  {
   "cell_type": "code",
   "execution_count": 80,
   "metadata": {
    "ExecuteTime": {
     "end_time": "2021-08-10T23:11:04.113268Z",
     "start_time": "2021-08-10T23:09:44.410983Z"
    }
   },
   "outputs": [],
   "source": [
    "ypred_svm = model_svm.predict(test_tfidf)"
   ]
  },
  {
   "cell_type": "markdown",
   "metadata": {},
   "source": [
    "## 5.0 Avaliação dos Modelos"
   ]
  },
  {
   "cell_type": "markdown",
   "metadata": {},
   "source": [
    "Optei por utilizar Accuracy, Precision e Kappa Score por ser um problema de classificação multi-classe.\n",
    "\n",
    "- Accuracy mede o quão bem o modelo está fazendo as previsões.\n",
    "- Precision mede o quão bem o modelo está fazendo as predições dos True Positives\n",
    "- Kappa score é uma medida de concordância entre 2 estimadores, no caso, o modelo e o y_test."
   ]
  },
  {
   "cell_type": "markdown",
   "metadata": {},
   "source": [
    "### 5.1 Avaliação Individual do Modelo Multinomial Naive Bayes"
   ]
  },
  {
   "cell_type": "code",
   "execution_count": 81,
   "metadata": {
    "ExecuteTime": {
     "end_time": "2021-08-10T23:11:04.145177Z",
     "start_time": "2021-08-10T23:11:04.116180Z"
    },
    "scrolled": true
   },
   "outputs": [
    {
     "name": "stdout",
     "output_type": "stream",
     "text": [
      "Accuracy MNB: 0.7470021955750717\n",
      "Precision MNB: 0.7644457884453792\n",
      "Kappa Score MNB: 0.6546990420662858\n"
     ]
    }
   ],
   "source": [
    "print('Accuracy MNB:', accuracy_score(y_test, ypred_nb))\n",
    "print('Precision MNB:', precision_score(y_test, ypred_nb, average = 'macro' ))\n",
    "print('Kappa Score MNB:', cohen_kappa_score(y_test, ypred_nb))"
   ]
  },
  {
   "cell_type": "code",
   "execution_count": 82,
   "metadata": {
    "ExecuteTime": {
     "end_time": "2021-08-10T23:11:04.193176Z",
     "start_time": "2021-08-10T23:11:04.148179Z"
    },
    "scrolled": true
   },
   "outputs": [
    {
     "name": "stdout",
     "output_type": "stream",
     "text": [
      "              precision    recall  f1-score   support\n",
      "\n",
      "           0       0.74      0.72      0.73      3105\n",
      "           1       0.80      0.48      0.60      2246\n",
      "           2       0.69      0.92      0.79      3629\n",
      "           3       0.81      0.77      0.79      2862\n",
      "\n",
      "    accuracy                           0.75     11842\n",
      "   macro avg       0.76      0.72      0.73     11842\n",
      "weighted avg       0.76      0.75      0.74     11842\n",
      "\n"
     ]
    }
   ],
   "source": [
    "print(classification_report(y_test, ypred_nb))"
   ]
  },
  {
   "cell_type": "code",
   "execution_count": 83,
   "metadata": {
    "ExecuteTime": {
     "end_time": "2021-08-10T23:11:04.208183Z",
     "start_time": "2021-08-10T23:11:04.197182Z"
    }
   },
   "outputs": [
    {
     "name": "stdout",
     "output_type": "stream",
     "text": [
      "Administrativo 0\n",
      "Civil, Empresarial e do Consumidor 1\n",
      "Penal 2\n",
      "Trabalho 3\n"
     ]
    }
   ],
   "source": [
    "for area, label in zip(le.classes_, np.arange(0,5)):\n",
    "    print(area, label)"
   ]
  },
  {
   "cell_type": "code",
   "execution_count": 84,
   "metadata": {
    "ExecuteTime": {
     "end_time": "2021-08-10T23:11:04.508183Z",
     "start_time": "2021-08-10T23:11:04.216179Z"
    },
    "scrolled": true
   },
   "outputs": [
    {
     "data": {
      "text/plain": [
       "Text(33.0, 0.5, 'True Labels')"
      ]
     },
     "execution_count": 84,
     "metadata": {},
     "output_type": "execute_result"
    },
    {
     "data": {
      "image/png": "[encoded data removed]",
      "text/plain": [
       "<Figure size 432x288 with 2 Axes>"
      ]
     },
     "metadata": {
      "needs_background": "light"
     },
     "output_type": "display_data"
    }
   ],
   "source": [
    "sns.heatmap(confusion_matrix(y_test, ypred_nb),fmt = 'd', annot = True)\n",
    "plt.xlabel('Predictions')\n",
    "plt.ylabel('True Labels')"
   ]
  },
  {
   "cell_type": "markdown",
   "metadata": {},
   "source": [
    "### 5.2 Avaliação Individual para o Modelo SVM "
   ]
  },
  {
   "cell_type": "code",
   "execution_count": 85,
   "metadata": {
    "ExecuteTime": {
     "end_time": "2021-08-10T23:11:04.540181Z",
     "start_time": "2021-08-10T23:11:04.510176Z"
    }
   },
   "outputs": [
    {
     "name": "stdout",
     "output_type": "stream",
     "text": [
      "Accuracy SVM: 0.8286606992062152\n",
      "Precision SVM: 0.8280442284832222\n",
      "Kappa Score SVM: 0.768157746557588\n"
     ]
    }
   ],
   "source": [
    "print('Accuracy SVM:', accuracy_score(y_test, ypred_svm))\n",
    "print('Precision SVM:', precision_score(y_test, ypred_svm, average = 'macro' ))\n",
    "print('Kappa Score SVM:', cohen_kappa_score(y_test, ypred_svm))"
   ]
  },
  {
   "cell_type": "code",
   "execution_count": 86,
   "metadata": {
    "ExecuteTime": {
     "end_time": "2021-08-10T23:11:04.572180Z",
     "start_time": "2021-08-10T23:11:04.543176Z"
    }
   },
   "outputs": [
    {
     "name": "stdout",
     "output_type": "stream",
     "text": [
      "              precision    recall  f1-score   support\n",
      "\n",
      "           0       0.83      0.84      0.83      3105\n",
      "           1       0.80      0.67      0.73      2246\n",
      "           2       0.81      0.90      0.86      3629\n",
      "           3       0.88      0.85      0.86      2862\n",
      "\n",
      "    accuracy                           0.83     11842\n",
      "   macro avg       0.83      0.81      0.82     11842\n",
      "weighted avg       0.83      0.83      0.83     11842\n",
      "\n"
     ]
    }
   ],
   "source": [
    "print(classification_report(y_test, ypred_svm))"
   ]
  },
  {
   "cell_type": "code",
   "execution_count": 87,
   "metadata": {
    "ExecuteTime": {
     "end_time": "2021-08-10T23:11:04.841186Z",
     "start_time": "2021-08-10T23:11:04.574177Z"
    }
   },
   "outputs": [
    {
     "data": {
      "text/plain": [
       "Text(33.0, 0.5, 'True Labels')"
      ]
     },
     "execution_count": 87,
     "metadata": {},
     "output_type": "execute_result"
    },
    {
     "data": {
      "image/png": "[encoded data removed]",
      "text/plain": [
       "<Figure size 432x288 with 2 Axes>"
      ]
     },
     "metadata": {
      "needs_background": "light"
     },
     "output_type": "display_data"
    }
   ],
   "source": [
    "sns.heatmap(confusion_matrix(y_test, ypred_svm),fmt = 'd', annot = True)\n",
    "plt.xlabel('Predictions')\n",
    "plt.ylabel('True Labels')"
   ]
  },
  {
   "cell_type": "markdown",
   "metadata": {},
   "source": [
    "### 5.3 Cross-Validation"
   ]
  },
  {
   "cell_type": "markdown",
   "metadata": {},
   "source": [
    "### CV - Multinomial Naive Bayes"
   ]
  },
  {
   "cell_type": "code",
   "execution_count": 91,
   "metadata": {
    "ExecuteTime": {
     "end_time": "2021-08-10T23:12:16.107636Z",
     "start_time": "2021-08-10T23:12:04.231953Z"
    }
   },
   "outputs": [
    {
     "name": "stdout",
     "output_type": "stream",
     "text": [
      "Fold: 1 / 5\n",
      "Fold: 2 / 5\n",
      "Fold: 3 / 5\n",
      "Fold: 4 / 5\n",
      "Fold: 5 / 5\n"
     ]
    }
   ],
   "source": [
    "num_folds = 5\n",
    "kfold = StratifiedKFold(n_splits = num_folds, shuffle = True, random_state = 42)\n",
    "\n",
    "accuracy_list = []\n",
    "precision_list = []\n",
    "kappa_list = []\n",
    "\n",
    "i = 1\n",
    "\n",
    "for train_ix, val_ix in kfold.split(df[['clean_posts']], df['area']):\n",
    "    print('Fold: {} / {}'.format(i, num_folds))\n",
    "    \n",
    "    X_train_fold = df.iloc[train_ix]\n",
    "    y_train_fold = df['area'].iloc[train_ix]\n",
    "    \n",
    "    X_val_fold = df.iloc[val_ix]\n",
    "    y_val_fold = df['area'].iloc[val_ix]\n",
    "    \n",
    "    tfidf_vectorizer = TfidfVectorizer()\n",
    "\n",
    "    train_tfidf_fold = tfidf_vectorizer.fit_transform((X_train_fold['clean_posts'].apply(lambda x: np.str_(x)))) \n",
    "    val_tfidf_fold = tfidf_vectorizer.transform((X_val_fold['clean_posts'].apply(lambda x: np.str_(x))))\n",
    "    \n",
    "    model = MultinomialNB()\n",
    "    model.fit(train_tfidf_fold, y_train_fold)\n",
    "    \n",
    "    y_pred_cv = model.predict(val_tfidf_fold)\n",
    "    \n",
    "    #metrics\n",
    "    \n",
    "    #Accuracy\n",
    "    acc = accuracy_score(y_val_fold, y_pred_cv)\n",
    "    accuracy_list.append(acc)\n",
    "    \n",
    "    #Precision\n",
    "    prec = precision_score(y_val_fold, y_pred_cv, average = 'macro')\n",
    "    precision_list.append(prec)\n",
    "    \n",
    "    #Kappa\n",
    "    kappa = cohen_kappa_score(y_val_fold, y_pred_cv)\n",
    "    kappa_list.append(kappa)\n",
    "    \n",
    "    \n",
    "    i+=1\n",
    "    \n",
    "mnb_model = {\n",
    "            'Model' : 'Multinomial NB',\n",
    "            'Transformação': 'TF-IDF nas palavras',\n",
    "            'Accuracy': '{:.3f} +/- {:.3f}'.format(np.mean(accuracy_list),np.std(accuracy_list)),\n",
    "            'Precision': '{:.3f} +/- {:.3f}'.format(np.mean(precision_list),np.std(precision_list)),\n",
    "            'Kappa Score': '{:.3f} +/- {:.3f}'.format(np.mean(kappa_list),np.std(kappa_list))}"
   ]
  },
  {
   "cell_type": "code",
   "execution_count": 92,
   "metadata": {
    "ExecuteTime": {
     "end_time": "2021-08-10T23:12:25.132611Z",
     "start_time": "2021-08-10T23:12:25.120620Z"
    },
    "scrolled": true
   },
   "outputs": [
    {
     "name": "stdout",
     "output_type": "stream",
     "text": [
      "Cross-Validation MNB Evaluation:\n",
      "Accuracy MNB: 0.756 +/- 0.002\n",
      "Precision MNB: 0.769 +/- 0.003\n",
      "Kappa Score MNB: 0.666 +/- 0.003\n"
     ]
    }
   ],
   "source": [
    "print('Cross-Validation MNB Evaluation:')\n",
    "print('Accuracy MNB: {:.3f} +/- {:.3f}'.format(np.mean(accuracy_list),np.std(accuracy_list)))\n",
    "print('Precision MNB: {:.3f} +/- {:.3f}'.format(np.mean(precision_list),np.std(precision_list)))\n",
    "print('Kappa Score MNB: {:.3f} +/- {:.3f}'.format(np.mean(kappa_list),np.std(kappa_list)))"
   ]
  },
  {
   "cell_type": "markdown",
   "metadata": {},
   "source": [
    "### CV - SVM c/ Kernel Linear"
   ]
  },
  {
   "cell_type": "code",
   "execution_count": 93,
   "metadata": {
    "ExecuteTime": {
     "end_time": "2021-08-10T23:35:12.942330Z",
     "start_time": "2021-08-10T23:12:27.609024Z"
    }
   },
   "outputs": [
    {
     "name": "stdout",
     "output_type": "stream",
     "text": [
      "Fold: 1 / 5\n",
      "Fold: 2 / 5\n",
      "Fold: 3 / 5\n",
      "Fold: 4 / 5\n",
      "Fold: 5 / 5\n"
     ]
    }
   ],
   "source": [
    "num_folds = 5\n",
    "kfold = StratifiedKFold(n_splits = num_folds, shuffle = True, random_state = 42)\n",
    "\n",
    "accuracy_list = []\n",
    "precision_list = []\n",
    "kappa_list = []\n",
    "\n",
    "i = 1\n",
    "\n",
    "for train_ix, val_ix in kfold.split(df[['clean_posts']], df['area']):\n",
    "    print('Fold: {} / {}'.format(i, num_folds))\n",
    "    \n",
    "    X_train_fold = df.iloc[train_ix]\n",
    "    y_train_fold = df['area'].iloc[train_ix]\n",
    "    \n",
    "    X_val_fold = df.iloc[val_ix]\n",
    "    y_val_fold = df['area'].iloc[val_ix]\n",
    "    \n",
    "    tfidf_vectorizer = TfidfVectorizer()\n",
    "\n",
    "    train_tfidf_fold = tfidf_vectorizer.fit_transform((X_train_fold['clean_posts'].apply(lambda x: np.str_(x)))) \n",
    "    val_tfidf_fold = tfidf_vectorizer.transform((X_val_fold['clean_posts'].apply(lambda x: np.str_(x))))\n",
    "    \n",
    "    model = SVC(kernel='linear')\n",
    "    model.fit(train_tfidf_fold, y_train_fold)\n",
    "    \n",
    "    y_pred_cv = model.predict(val_tfidf_fold)\n",
    "    \n",
    "    #metrics\n",
    "    \n",
    "    #Accuracy\n",
    "    acc = accuracy_score(y_val_fold, y_pred_cv)\n",
    "    accuracy_list.append(acc)\n",
    "    \n",
    "    #Precision\n",
    "    prec = precision_score(y_val_fold, y_pred_cv, average = 'macro')\n",
    "    precision_list.append(prec)\n",
    "    \n",
    "    #Kappa\n",
    "    kappa = cohen_kappa_score(y_val_fold, y_pred_cv)\n",
    "    kappa_list.append(kappa)\n",
    "    \n",
    "    \n",
    "    i+=1\n",
    "    \n",
    "svm_model = {'Model' : 'SVM - Kernel Linear',\n",
    "            'Transformação': 'TF-IDF nas palavras',\n",
    "            'Accuracy': '{:.3f} +/- {:.3f}'.format(np.mean(accuracy_list),np.std(accuracy_list)),\n",
    "            'Precision': '{:.3f} +/- {:.3f}'.format(np.mean(precision_list),np.std(precision_list)),\n",
    "            'Kappa Score': '{:.3f} +/- {:.3f}'.format(np.mean(kappa_list),np.std(kappa_list))}    "
   ]
  },
  {
   "cell_type": "code",
   "execution_count": 94,
   "metadata": {
    "ExecuteTime": {
     "end_time": "2021-08-10T23:35:12.972336Z",
     "start_time": "2021-08-10T23:35:12.950333Z"
    }
   },
   "outputs": [
    {
     "name": "stdout",
     "output_type": "stream",
     "text": [
      "Cross-Validation SVM Evaluation:\n",
      "Accuracy SVM: 0.837 +/- 0.003\n",
      "Precision SVM: 0.834 +/- 0.004\n",
      "Kappa Score SVM: 0.779 +/- 0.004\n"
     ]
    }
   ],
   "source": [
    "print('Cross-Validation SVM Evaluation:')\n",
    "print('Accuracy SVM: {:.3f} +/- {:.3f}'.format(np.mean(accuracy_list),np.std(accuracy_list)))\n",
    "print('Precision SVM: {:.3f} +/- {:.3f}'.format(np.mean(precision_list),np.std(precision_list)))\n",
    "print('Kappa Score SVM: {:.3f} +/- {:.3f}'.format(np.mean(kappa_list),np.std(kappa_list)))"
   ]
  },
  {
   "cell_type": "markdown",
   "metadata": {},
   "source": [
    "## 6.0 Comparativo dos modelos testados:\n"
   ]
  },
  {
   "cell_type": "code",
   "execution_count": 95,
   "metadata": {
    "ExecuteTime": {
     "end_time": "2021-08-10T23:35:12.987333Z",
     "start_time": "2021-08-10T23:35:12.976335Z"
    }
   },
   "outputs": [],
   "source": [
    "comp_models = [mnb_model, svm_model]"
   ]
  },
  {
   "cell_type": "code",
   "execution_count": 96,
   "metadata": {
    "ExecuteTime": {
     "end_time": "2021-08-10T23:35:13.019334Z",
     "start_time": "2021-08-10T23:35:12.990333Z"
    }
   },
   "outputs": [
    {
     "data": {
      "text/html": [
       "<div>\n",
       "<style scoped>\n",
       "    .dataframe tbody tr th:only-of-type {\n",
       "        vertical-align: middle;\n",
       "    }\n",
       "\n",
       "    .dataframe tbody tr th {\n",
       "        vertical-align: top;\n",
       "    }\n",
       "\n",
       "    .dataframe thead th {\n",
       "        text-align: right;\n",
       "    }\n",
       "</style>\n",
       "<table border=\"1\" class=\"dataframe\">\n",
       "  <thead>\n",
       "    <tr style=\"text-align: right;\">\n",
       "      <th></th>\n",
       "      <th>Model</th>\n",
       "      <th>Transformação</th>\n",
       "      <th>Accuracy</th>\n",
       "      <th>Precision</th>\n",
       "      <th>Kappa Score</th>\n",
       "    </tr>\n",
       "  </thead>\n",
       "  <tbody>\n",
       "    <tr>\n",
       "      <th>0</th>\n",
       "      <td>Multinomial NB</td>\n",
       "      <td>TF-IDF nas palavras</td>\n",
       "      <td>0.756 +/- 0.002</td>\n",
       "      <td>0.769 +/- 0.003</td>\n",
       "      <td>0.666 +/- 0.003</td>\n",
       "    </tr>\n",
       "    <tr>\n",
       "      <th>1</th>\n",
       "      <td>SVM - Kernel Linear</td>\n",
       "      <td>TF-IDF nas palavras</td>\n",
       "      <td>0.837 +/- 0.003</td>\n",
       "      <td>0.834 +/- 0.004</td>\n",
       "      <td>0.779 +/- 0.004</td>\n",
       "    </tr>\n",
       "  </tbody>\n",
       "</table>\n",
       "</div>"
      ],
      "text/plain": [
       "                 Model        Transformação         Accuracy        Precision  \\\n",
       "0       Multinomial NB  TF-IDF nas palavras  0.756 +/- 0.002  0.769 +/- 0.003   \n",
       "1  SVM - Kernel Linear  TF-IDF nas palavras  0.837 +/- 0.003  0.834 +/- 0.004   \n",
       "\n",
       "       Kappa Score  \n",
       "0  0.666 +/- 0.003  \n",
       "1  0.779 +/- 0.004  "
      ]
     },
     "execution_count": 96,
     "metadata": {},
     "output_type": "execute_result"
    }
   ],
   "source": [
    "pd.DataFrame(comp_models, index=np.arange(0, len(comp_models)))"
   ]
  },
  {
   "cell_type": "markdown",
   "metadata": {},
   "source": [
    "## Sugestões de Melhorias:\n",
    "\n",
    "- ~~Utilização de SVM c/ Linear Kernel~~\n",
    "- Utilização de Bigramas ou Trigramas antes da transformação TF-IDF com o MultinomialNB ou o SVM LK\n",
    "- Utilização de Redes Neurais - LSTM\n",
    "- SMOTE para um melhor balanceamento das classes\n",
    "- Análise da Nuvem de palavras pra cada classe, a fim de identificar quais termos aparecem com mais frequência dependendo da classe."
   ]
  }
 ],
 "metadata": {
  "interpreter": {
   "hash": "f073831f69cd3c6d3e66726246945d904cffd54393bb30d63848c4ab17154cac"
  },
  "kernelspec": {
   "display_name": "Python 3",
   "language": "python",
   "name": "python3"
  },
  "language_info": {
   "codemirror_mode": {
    "name": "ipython",
    "version": 3
   },
   "file_extension": ".py",
   "mimetype": "text/x-python",
   "name": "python",
   "nbconvert_exporter": "python",
   "pygments_lexer": "ipython3",
   "version": "3.7.1"
  }
 },
 "nbformat": 4,
 "nbformat_minor": 4
}
