{
 "cells": [
  {
   "cell_type": "markdown",
   "metadata": {},
   "source": [
    "# Mentoria Data Science Academy"
   ]
  },
  {
   "cell_type": "markdown",
   "metadata": {},
   "source": [
    "## Imports"
   ]
  },
  {
   "cell_type": "code",
   "execution_count": 1,
   "metadata": {
    "ExecuteTime": {
     "end_time": "2021-08-11T13:48:02.829086Z",
     "start_time": "2021-08-11T13:47:57.517345Z"
    }
   },
   "outputs": [
    {
     "name": "stderr",
     "output_type": "stream",
     "text": [
      "[nltk_data] Downloading package stopwords to\n",
      "[nltk_data]     C:\\Users\\joaop\\AppData\\Roaming\\nltk_data...\n",
      "[nltk_data]   Package stopwords is already up-to-date!\n",
      "[nltk_data] Downloading package rslp to\n",
      "[nltk_data]     C:\\Users\\joaop\\AppData\\Roaming\\nltk_data...\n",
      "[nltk_data]   Package rslp is already up-to-date!\n"
     ]
    },
    {
     "data": {
      "text/plain": [
       "True"
      ]
     },
     "execution_count": 1,
     "metadata": {},
     "output_type": "execute_result"
    }
   ],
   "source": [
    "import numpy as np\n",
    "import pandas as pd\n",
    "import re\n",
    "import string\n",
    "import nltk\n",
    "from nltk import word_tokenize \n",
    "from nltk.collocations import BigramCollocationFinder\n",
    "import os\n",
    "import pickle\n",
    "\n",
    "from sklearn.model_selection import train_test_split, StratifiedKFold\n",
    "from sklearn.feature_extraction.text import TfidfVectorizer\n",
    "from sklearn.naive_bayes import MultinomialNB\n",
    "from sklearn.svm import SVC\n",
    "from sklearn.preprocessing import LabelEncoder\n",
    "from sklearn.metrics import accuracy_score, precision_score, cohen_kappa_score, classification_report, confusion_matrix\n",
    "from sklearn.model_selection import GridSearchCV\n",
    "\n",
    "import seaborn as sns\n",
    "import matplotlib.pyplot as plt\n",
    "from IPython.display import Image\n",
    "\n",
    "# Downloads do pacote NLTK\n",
    "nltk.download('stopwords')\n",
    "nltk.download('rslp')"
   ]
  },
  {
   "cell_type": "markdown",
   "metadata": {
    "ExecuteTime": {
     "end_time": "2021-07-19T19:18:43.393429Z",
     "start_time": "2021-07-19T19:18:43.373439Z"
    },
    "heading_collapsed": true
   },
   "source": [
    "## 0.0 Carregando os Dados"
   ]
  },
  {
   "cell_type": "code",
   "execution_count": 3,
   "metadata": {
    "ExecuteTime": {
     "end_time": "2021-08-11T08:03:37.742525Z",
     "start_time": "2021-08-11T08:03:36.777250Z"
    },
    "hidden": true
   },
   "outputs": [],
   "source": [
    "data_path = 'dados'\n",
    "df1 = pd.read_csv(os.path.join(data_path, 'posts.csv'), sep = '|')\n",
    "df2 = pd.read_csv(os.path.join(data_path, 'posts_2.csv'), sep = '|')\n",
    "df3 = pd.read_csv(os.path.join(data_path, 'posts_3.csv'), sep = '|')"
   ]
  },
  {
   "cell_type": "code",
   "execution_count": 4,
   "metadata": {
    "ExecuteTime": {
     "end_time": "2021-08-11T08:03:37.773330Z",
     "start_time": "2021-08-11T08:03:37.742525Z"
    },
    "hidden": true
   },
   "outputs": [
    {
     "data": {
      "text/html": [
       "<div>\n",
       "<style scoped>\n",
       "    .dataframe tbody tr th:only-of-type {\n",
       "        vertical-align: middle;\n",
       "    }\n",
       "\n",
       "    .dataframe tbody tr th {\n",
       "        vertical-align: top;\n",
       "    }\n",
       "\n",
       "    .dataframe thead th {\n",
       "        text-align: right;\n",
       "    }\n",
       "</style>\n",
       "<table border=\"1\" class=\"dataframe\">\n",
       "  <thead>\n",
       "    <tr style=\"text-align: right;\">\n",
       "      <th></th>\n",
       "      <th>title</th>\n",
       "      <th>date</th>\n",
       "      <th>answers</th>\n",
       "      <th>visits</th>\n",
       "      <th>url</th>\n",
       "      <th>post</th>\n",
       "      <th>area</th>\n",
       "    </tr>\n",
       "  </thead>\n",
       "  <tbody>\n",
       "    <tr>\n",
       "      <th>0</th>\n",
       "      <td>recurso cabível exceção de preexecutividade re...</td>\n",
       "      <td>11 de Março de 2021</td>\n",
       "      <td>1</td>\n",
       "      <td>1</td>\n",
       "      <td>threads/recurso-cabivel-excecao-de-preexecutiv...</td>\n",
       "      <td>\\r\\n\\t\\t\\t\\t\\t\\r\\n\\t\\t\\t\\t\\tBoas tardes, caros...</td>\n",
       "      <td>direito-do-trabalho.17</td>\n",
       "    </tr>\n",
       "    <tr>\n",
       "      <th>1</th>\n",
       "      <td>Liquidez - Reforma Trabalhista</td>\n",
       "      <td>06 de Março de 2021</td>\n",
       "      <td>0</td>\n",
       "      <td>6</td>\n",
       "      <td>threads/liquidez-reforma-trabalhista.23092/</td>\n",
       "      <td>\\r\\n\\t\\t\\t\\t\\t\\r\\n\\t\\t\\t\\t\\tBoa noite, colegas...</td>\n",
       "      <td>direito-do-trabalho.17</td>\n",
       "    </tr>\n",
       "    <tr>\n",
       "      <th>2</th>\n",
       "      <td>Rito Sumário - sentença irrecorrível?</td>\n",
       "      <td>06 de Março de 2021</td>\n",
       "      <td>0</td>\n",
       "      <td>6</td>\n",
       "      <td>threads/rito-sumario-sentenca-irrecorrivel.23091/</td>\n",
       "      <td>\\r\\n\\t\\t\\t\\t\\t\\r\\n\\t\\t\\t\\t\\tOlá, colegas.\\r\\n\\...</td>\n",
       "      <td>direito-do-trabalho.17</td>\n",
       "    </tr>\n",
       "    <tr>\n",
       "      <th>3</th>\n",
       "      <td>DISPENSA DE FUNCIONARIO AFASTADO EM ESPECIE DE...</td>\n",
       "      <td>27 de Janeiro de 2021</td>\n",
       "      <td>0</td>\n",
       "      <td>9</td>\n",
       "      <td>threads/dispensa-de-funcionario-afastado-em-es...</td>\n",
       "      <td>\\r\\n\\t\\t\\t\\t\\t\\r\\n\\t\\t\\t\\t\\tPrezados, Drs.\\r\\n...</td>\n",
       "      <td>direito-do-trabalho.17</td>\n",
       "    </tr>\n",
       "    <tr>\n",
       "      <th>4</th>\n",
       "      <td>Cálculo Trabalhista - contador ou advogado?</td>\n",
       "      <td>03 de Maio de 2018</td>\n",
       "      <td>8</td>\n",
       "      <td>1</td>\n",
       "      <td>threads/calculo-trabalhista-contador-ou-advoga...</td>\n",
       "      <td>\\r\\n\\t\\t\\t\\t\\t\\r\\n\\t\\t\\t\\t\\tQueridos (as),\\r\\n...</td>\n",
       "      <td>direito-do-trabalho.17</td>\n",
       "    </tr>\n",
       "  </tbody>\n",
       "</table>\n",
       "</div>"
      ],
      "text/plain": [
       "                                               title                   date  \\\n",
       "0  recurso cabível exceção de preexecutividade re...    11 de Março de 2021   \n",
       "1                     Liquidez - Reforma Trabalhista    06 de Março de 2021   \n",
       "2              Rito Sumário - sentença irrecorrível?    06 de Março de 2021   \n",
       "3  DISPENSA DE FUNCIONARIO AFASTADO EM ESPECIE DE...  27 de Janeiro de 2021   \n",
       "4        Cálculo Trabalhista - contador ou advogado?     03 de Maio de 2018   \n",
       "\n",
       "   answers  visits                                                url  \\\n",
       "0        1       1  threads/recurso-cabivel-excecao-de-preexecutiv...   \n",
       "1        0       6        threads/liquidez-reforma-trabalhista.23092/   \n",
       "2        0       6  threads/rito-sumario-sentenca-irrecorrivel.23091/   \n",
       "3        0       9  threads/dispensa-de-funcionario-afastado-em-es...   \n",
       "4        8       1  threads/calculo-trabalhista-contador-ou-advoga...   \n",
       "\n",
       "                                                post                    area  \n",
       "0  \\r\\n\\t\\t\\t\\t\\t\\r\\n\\t\\t\\t\\t\\tBoas tardes, caros...  direito-do-trabalho.17  \n",
       "1  \\r\\n\\t\\t\\t\\t\\t\\r\\n\\t\\t\\t\\t\\tBoa noite, colegas...  direito-do-trabalho.17  \n",
       "2  \\r\\n\\t\\t\\t\\t\\t\\r\\n\\t\\t\\t\\t\\tOlá, colegas.\\r\\n\\...  direito-do-trabalho.17  \n",
       "3  \\r\\n\\t\\t\\t\\t\\t\\r\\n\\t\\t\\t\\t\\tPrezados, Drs.\\r\\n...  direito-do-trabalho.17  \n",
       "4  \\r\\n\\t\\t\\t\\t\\t\\r\\n\\t\\t\\t\\t\\tQueridos (as),\\r\\n...  direito-do-trabalho.17  "
      ]
     },
     "execution_count": 4,
     "metadata": {},
     "output_type": "execute_result"
    }
   ],
   "source": [
    "df1.head()"
   ]
  },
  {
   "cell_type": "code",
   "execution_count": 5,
   "metadata": {
    "ExecuteTime": {
     "end_time": "2021-08-11T08:03:37.805326Z",
     "start_time": "2021-08-11T08:03:37.775325Z"
    },
    "hidden": true
   },
   "outputs": [],
   "source": [
    "df = pd.concat([df1, df2, df3], axis = 0)"
   ]
  },
  {
   "cell_type": "code",
   "execution_count": 6,
   "metadata": {
    "ExecuteTime": {
     "end_time": "2021-08-11T08:03:37.835341Z",
     "start_time": "2021-08-11T08:03:37.808328Z"
    },
    "hidden": true
   },
   "outputs": [],
   "source": [
    "# As colunas visits e likes não estão presentes em todos os dfs, então vamos remove-las \n",
    "df.drop(columns=['visits', 'likes'], inplace=True)"
   ]
  },
  {
   "cell_type": "code",
   "execution_count": 7,
   "metadata": {
    "ExecuteTime": {
     "end_time": "2021-08-11T08:03:37.866324Z",
     "start_time": "2021-08-11T08:03:37.838331Z"
    },
    "hidden": true,
    "scrolled": false
   },
   "outputs": [
    {
     "data": {
      "text/html": [
       "<div>\n",
       "<style scoped>\n",
       "    .dataframe tbody tr th:only-of-type {\n",
       "        vertical-align: middle;\n",
       "    }\n",
       "\n",
       "    .dataframe tbody tr th {\n",
       "        vertical-align: top;\n",
       "    }\n",
       "\n",
       "    .dataframe thead th {\n",
       "        text-align: right;\n",
       "    }\n",
       "</style>\n",
       "<table border=\"1\" class=\"dataframe\">\n",
       "  <thead>\n",
       "    <tr style=\"text-align: right;\">\n",
       "      <th></th>\n",
       "      <th>title</th>\n",
       "      <th>date</th>\n",
       "      <th>answers</th>\n",
       "      <th>url</th>\n",
       "      <th>post</th>\n",
       "      <th>area</th>\n",
       "    </tr>\n",
       "  </thead>\n",
       "  <tbody>\n",
       "    <tr>\n",
       "      <th>0</th>\n",
       "      <td>recurso cabível exceção de preexecutividade re...</td>\n",
       "      <td>11 de Março de 2021</td>\n",
       "      <td>1</td>\n",
       "      <td>threads/recurso-cabivel-excecao-de-preexecutiv...</td>\n",
       "      <td>\\r\\n\\t\\t\\t\\t\\t\\r\\n\\t\\t\\t\\t\\tBoas tardes, caros...</td>\n",
       "      <td>direito-do-trabalho.17</td>\n",
       "    </tr>\n",
       "    <tr>\n",
       "      <th>1</th>\n",
       "      <td>Liquidez - Reforma Trabalhista</td>\n",
       "      <td>06 de Março de 2021</td>\n",
       "      <td>0</td>\n",
       "      <td>threads/liquidez-reforma-trabalhista.23092/</td>\n",
       "      <td>\\r\\n\\t\\t\\t\\t\\t\\r\\n\\t\\t\\t\\t\\tBoa noite, colegas...</td>\n",
       "      <td>direito-do-trabalho.17</td>\n",
       "    </tr>\n",
       "    <tr>\n",
       "      <th>2</th>\n",
       "      <td>Rito Sumário - sentença irrecorrível?</td>\n",
       "      <td>06 de Março de 2021</td>\n",
       "      <td>0</td>\n",
       "      <td>threads/rito-sumario-sentenca-irrecorrivel.23091/</td>\n",
       "      <td>\\r\\n\\t\\t\\t\\t\\t\\r\\n\\t\\t\\t\\t\\tOlá, colegas.\\r\\n\\...</td>\n",
       "      <td>direito-do-trabalho.17</td>\n",
       "    </tr>\n",
       "    <tr>\n",
       "      <th>3</th>\n",
       "      <td>DISPENSA DE FUNCIONARIO AFASTADO EM ESPECIE DE...</td>\n",
       "      <td>27 de Janeiro de 2021</td>\n",
       "      <td>0</td>\n",
       "      <td>threads/dispensa-de-funcionario-afastado-em-es...</td>\n",
       "      <td>\\r\\n\\t\\t\\t\\t\\t\\r\\n\\t\\t\\t\\t\\tPrezados, Drs.\\r\\n...</td>\n",
       "      <td>direito-do-trabalho.17</td>\n",
       "    </tr>\n",
       "    <tr>\n",
       "      <th>4</th>\n",
       "      <td>Cálculo Trabalhista - contador ou advogado?</td>\n",
       "      <td>03 de Maio de 2018</td>\n",
       "      <td>8</td>\n",
       "      <td>threads/calculo-trabalhista-contador-ou-advoga...</td>\n",
       "      <td>\\r\\n\\t\\t\\t\\t\\t\\r\\n\\t\\t\\t\\t\\tQueridos (as),\\r\\n...</td>\n",
       "      <td>direito-do-trabalho.17</td>\n",
       "    </tr>\n",
       "  </tbody>\n",
       "</table>\n",
       "</div>"
      ],
      "text/plain": [
       "                                               title                   date  \\\n",
       "0  recurso cabível exceção de preexecutividade re...    11 de Março de 2021   \n",
       "1                     Liquidez - Reforma Trabalhista    06 de Março de 2021   \n",
       "2              Rito Sumário - sentença irrecorrível?    06 de Março de 2021   \n",
       "3  DISPENSA DE FUNCIONARIO AFASTADO EM ESPECIE DE...  27 de Janeiro de 2021   \n",
       "4        Cálculo Trabalhista - contador ou advogado?     03 de Maio de 2018   \n",
       "\n",
       "   answers                                                url  \\\n",
       "0        1  threads/recurso-cabivel-excecao-de-preexecutiv...   \n",
       "1        0        threads/liquidez-reforma-trabalhista.23092/   \n",
       "2        0  threads/rito-sumario-sentenca-irrecorrivel.23091/   \n",
       "3        0  threads/dispensa-de-funcionario-afastado-em-es...   \n",
       "4        8  threads/calculo-trabalhista-contador-ou-advoga...   \n",
       "\n",
       "                                                post                    area  \n",
       "0  \\r\\n\\t\\t\\t\\t\\t\\r\\n\\t\\t\\t\\t\\tBoas tardes, caros...  direito-do-trabalho.17  \n",
       "1  \\r\\n\\t\\t\\t\\t\\t\\r\\n\\t\\t\\t\\t\\tBoa noite, colegas...  direito-do-trabalho.17  \n",
       "2  \\r\\n\\t\\t\\t\\t\\t\\r\\n\\t\\t\\t\\t\\tOlá, colegas.\\r\\n\\...  direito-do-trabalho.17  \n",
       "3  \\r\\n\\t\\t\\t\\t\\t\\r\\n\\t\\t\\t\\t\\tPrezados, Drs.\\r\\n...  direito-do-trabalho.17  \n",
       "4  \\r\\n\\t\\t\\t\\t\\t\\r\\n\\t\\t\\t\\t\\tQueridos (as),\\r\\n...  direito-do-trabalho.17  "
      ]
     },
     "execution_count": 7,
     "metadata": {},
     "output_type": "execute_result"
    }
   ],
   "source": [
    "df.head()"
   ]
  },
  {
   "cell_type": "code",
   "execution_count": 8,
   "metadata": {
    "ExecuteTime": {
     "end_time": "2021-08-11T08:03:37.897326Z",
     "start_time": "2021-08-11T08:03:37.868324Z"
    },
    "hidden": true
   },
   "outputs": [],
   "source": [
    "df['area'] = df['area'].apply(lambda x: x.split('.')[0])"
   ]
  },
  {
   "cell_type": "markdown",
   "metadata": {
    "heading_collapsed": true
   },
   "source": [
    "## 1.0 Descrição dos dados"
   ]
  },
  {
   "cell_type": "markdown",
   "metadata": {
    "hidden": true
   },
   "source": [
    "### 1.1 Dimensão dos dados"
   ]
  },
  {
   "cell_type": "code",
   "execution_count": 9,
   "metadata": {
    "ExecuteTime": {
     "end_time": "2021-08-11T08:03:37.944328Z",
     "start_time": "2021-08-11T08:03:37.912326Z"
    },
    "hidden": true,
    "scrolled": true
   },
   "outputs": [
    {
     "name": "stdout",
     "output_type": "stream",
     "text": [
      "Número de exemplos: 39016\n",
      "Número de colunas: 6\n"
     ]
    }
   ],
   "source": [
    "print(\"Número de exemplos:\", df.shape[0])\n",
    "print(\"Número de colunas:\", df.shape[1])"
   ]
  },
  {
   "cell_type": "markdown",
   "metadata": {
    "hidden": true
   },
   "source": [
    "### 1.2 Tipo das colunas"
   ]
  },
  {
   "cell_type": "code",
   "execution_count": 10,
   "metadata": {
    "ExecuteTime": {
     "end_time": "2021-08-11T08:03:37.974324Z",
     "start_time": "2021-08-11T08:03:37.948329Z"
    },
    "hidden": true,
    "scrolled": true
   },
   "outputs": [
    {
     "data": {
      "text/plain": [
       "title      object\n",
       "date       object\n",
       "answers     int64\n",
       "url        object\n",
       "post       object\n",
       "area       object\n",
       "dtype: object"
      ]
     },
     "execution_count": 10,
     "metadata": {},
     "output_type": "execute_result"
    }
   ],
   "source": [
    "# Mostra o tipo de cada variável\n",
    "df.dtypes"
   ]
  },
  {
   "cell_type": "markdown",
   "metadata": {
    "hidden": true
   },
   "source": [
    "Precisamos converter a variável date para formato de data para então podermos utilizar informações como dia da semana, fim de semana, ou há quantos meses/anos foi feita a pergunta."
   ]
  },
  {
   "cell_type": "markdown",
   "metadata": {
    "hidden": true
   },
   "source": [
    "OBS - João: Pensando no problema de negócio, apenas os textos devem ser utilizados, pois na hora da predição com o modelo em produção, não teremos dados de quantos dias a pergunta foi feita etc, acredito que pensando na área do problema, isso não influenciaria."
   ]
  },
  {
   "cell_type": "code",
   "execution_count": 11,
   "metadata": {
    "ExecuteTime": {
     "end_time": "2021-08-11T08:03:37.990325Z",
     "start_time": "2021-08-11T08:03:37.978325Z"
    },
    "hidden": true
   },
   "outputs": [],
   "source": [
    "# Espaço reservado para trabalhar na variável date"
   ]
  },
  {
   "cell_type": "markdown",
   "metadata": {
    "ExecuteTime": {
     "end_time": "2021-07-19T19:23:59.783562Z",
     "start_time": "2021-07-19T19:23:59.778559Z"
    },
    "hidden": true
   },
   "source": [
    "### 1.3 Variável target "
   ]
  },
  {
   "cell_type": "markdown",
   "metadata": {
    "hidden": true
   },
   "source": [
    "### 1.3.1 Classes únicas\n"
   ]
  },
  {
   "cell_type": "code",
   "execution_count": 12,
   "metadata": {
    "ExecuteTime": {
     "end_time": "2021-08-11T08:03:38.021327Z",
     "start_time": "2021-08-11T08:03:37.994328Z"
    },
    "hidden": true,
    "scrolled": false
   },
   "outputs": [
    {
     "data": {
      "text/plain": [
       "array(['direito-do-trabalho', 'direito-de-familia',\n",
       "       'direito-administrativo',\n",
       "       'direito-civil-empresarial-e-do-consumidor',\n",
       "       'direito-penal-e-processo-penal', 'empresarial',\n",
       "       'direito-administrativo/', 'direito-do-trabalho/',\n",
       "       'direito-penal/', 'direito-processual-penal/', 'direito-civil/',\n",
       "       'direito-do-consumidor/', 'direito-de-familia/'], dtype=object)"
      ]
     },
     "execution_count": 12,
     "metadata": {},
     "output_type": "execute_result"
    }
   ],
   "source": [
    "# Check de quais classes o dataset possui\n",
    "df['area'].unique()"
   ]
  },
  {
   "cell_type": "code",
   "execution_count": 13,
   "metadata": {
    "ExecuteTime": {
     "end_time": "2021-08-11T08:03:38.051324Z",
     "start_time": "2021-08-11T08:03:38.024329Z"
    },
    "hidden": true
   },
   "outputs": [
    {
     "name": "stdout",
     "output_type": "stream",
     "text": [
      "Número de classes diferentes:  13\n"
     ]
    }
   ],
   "source": [
    "print(\"Número de classes diferentes: \", len(df['area'].unique()))"
   ]
  },
  {
   "cell_type": "code",
   "execution_count": 14,
   "metadata": {
    "ExecuteTime": {
     "end_time": "2021-08-11T08:03:38.077284Z",
     "start_time": "2021-08-11T08:03:38.054328Z"
    },
    "hidden": true
   },
   "outputs": [
    {
     "name": "stdout",
     "output_type": "stream",
     "text": [
      "Número de observações por classe:\n"
     ]
    },
    {
     "data": {
      "text/plain": [
       "area\n",
       "direito-administrativo                        368\n",
       "direito-administrativo/                      9000\n",
       "direito-civil-empresarial-e-do-consumidor    1974\n",
       "direito-civil/                               3000\n",
       "direito-de-familia                           1634\n",
       "direito-de-familia/                          1500\n",
       "direito-do-consumidor/                       1500\n",
       "direito-do-trabalho                          1172\n",
       "direito-do-trabalho/                         7500\n",
       "direito-penal-e-processo-penal                668\n",
       "direito-penal/                               6000\n",
       "direito-processual-penal/                    4500\n",
       "empresarial                                   200\n",
       "Name: area, dtype: int64"
      ]
     },
     "execution_count": 14,
     "metadata": {},
     "output_type": "execute_result"
    }
   ],
   "source": [
    "print('Número de observações por classe:')\n",
    "df.groupby('area')['area'].count()"
   ]
  },
  {
   "cell_type": "markdown",
   "metadata": {
    "hidden": true
   },
   "source": [
    "### 1.3.2 Reajustando as classes\n",
    "\n",
    "Algumas classes estão com textos diferentes porém indicam a mesma coisa (Ex. 'direito-do-trabalho' e 'direito-do-trabalho/'). Iremos padronizar os textos para seguir com os seguintes labels:\n",
    "\n",
    "- Administrativo\n",
    "- Civil, Empresarial e do Consumidor\n",
    "- Familia\n",
    "- Trabalho\n",
    "- Penal"
   ]
  },
  {
   "cell_type": "code",
   "execution_count": 15,
   "metadata": {
    "ExecuteTime": {
     "end_time": "2021-08-11T08:03:38.200323Z",
     "start_time": "2021-08-11T08:03:38.080283Z"
    },
    "hidden": true
   },
   "outputs": [],
   "source": [
    "df['area'] = [\n",
    "    'Administrativo' if any(x in area for x in ['administrativo']) else\n",
    "    'Civil, Empresarial e do Consumidor' if any(x in area for x in ['civil', 'empresarial', 'consumidor']) else\n",
    "    'Familia' if any(x in area for x in ['familia']) else\n",
    "    'Trabalho' if any(x in area for x in ['trabalho']) else\n",
    "    'Penal' if any(x in area for x in ['penal']) else\n",
    "    area\n",
    "    for area in df['area']\n",
    "]"
   ]
  },
  {
   "cell_type": "code",
   "execution_count": 16,
   "metadata": {
    "ExecuteTime": {
     "end_time": "2021-08-11T08:03:38.231315Z",
     "start_time": "2021-08-11T08:03:38.202315Z"
    },
    "hidden": true
   },
   "outputs": [
    {
     "data": {
      "text/plain": [
       "area\n",
       "Administrativo                         9368\n",
       "Civil, Empresarial e do Consumidor     6674\n",
       "Familia                                3134\n",
       "Penal                                 11168\n",
       "Trabalho                               8672\n",
       "Name: area, dtype: int64"
      ]
     },
     "execution_count": 16,
     "metadata": {},
     "output_type": "execute_result"
    }
   ],
   "source": [
    "df.groupby('area')['area'].count()"
   ]
  },
  {
   "cell_type": "code",
   "execution_count": 17,
   "metadata": {
    "ExecuteTime": {
     "end_time": "2021-08-11T08:03:38.247315Z",
     "start_time": "2021-08-11T08:03:38.234316Z"
    },
    "hidden": true
   },
   "outputs": [
    {
     "name": "stdout",
     "output_type": "stream",
     "text": [
      "Número de classes diferentes:  5\n"
     ]
    }
   ],
   "source": [
    "print(\"Número de classes diferentes: \", len(df['area'].unique()))"
   ]
  },
  {
   "cell_type": "markdown",
   "metadata": {
    "hidden": true
   },
   "source": [
    "### 1.3.3 Verificando o balanceamento das classes"
   ]
  },
  {
   "cell_type": "code",
   "execution_count": 18,
   "metadata": {
    "ExecuteTime": {
     "end_time": "2021-08-11T08:03:38.294314Z",
     "start_time": "2021-08-11T08:03:38.250316Z"
    },
    "hidden": true,
    "scrolled": true
   },
   "outputs": [
    {
     "data": {
      "text/plain": [
       "Penal                                 28.624154\n",
       "Administrativo                        24.010662\n",
       "Trabalho                              22.226779\n",
       "Civil, Empresarial e do Consumidor    17.105803\n",
       "Familia                                8.032602\n",
       "Name: area, dtype: float64"
      ]
     },
     "execution_count": 18,
     "metadata": {},
     "output_type": "execute_result"
    }
   ],
   "source": [
    "# Verifica em porcentagem o balanço das classes\n",
    "df['area'].value_counts(normalize=True)*100"
   ]
  },
  {
   "cell_type": "markdown",
   "metadata": {
    "hidden": true
   },
   "source": [
    " ## 2.0 Limpeza dos dados"
   ]
  },
  {
   "cell_type": "markdown",
   "metadata": {
    "hidden": true
   },
   "source": [
    "### 2.1 Visualizando os dados em formato RAW"
   ]
  },
  {
   "cell_type": "code",
   "execution_count": 19,
   "metadata": {
    "ExecuteTime": {
     "end_time": "2021-08-11T08:03:38.310321Z",
     "start_time": "2021-08-11T08:03:38.296313Z"
    },
    "hidden": true,
    "scrolled": true
   },
   "outputs": [
    {
     "name": "stdout",
     "output_type": "stream",
     "text": [
      "'\\r\\n\\t\\t\\t\\t\\t\\r\\n\\t\\t\\t\\t\\tBoas tardes, caros colegas\\r\\n\\r\\nAntes de mais nada, sinto um imenso prazer em visitar esse fórum, por ter me ajudado e muito.\\r\\nPreciso da opinião dos colegas, no seguinte assunto trabalhista.\\r\\n\\r\\nAcontece que a exceção de pre-executividade trabalhista  proposta em favor da cliente fora rejeitada, nesse caso cabe algum recurso....pois segundo uma pesquisa que efetuei, consta que o agravo de petição não é cabível por ser decisão interlocutória, agradeço desde já.\\r\\n\\t\\t\\t\\t'\n",
      "\n",
      "\n",
      "'\\r\\n\\t\\t\\t\\t\\t\\r\\n\\t\\t\\t\\t\\tBoa noite, colegas.\\r\\n\\r\\nCuido de uma ação de cobrança de contribuição sindical rural proposta pelo rito sumário. Por fim o autor requereu: \\r\\n\\r\\n\"a condenação do Réu ao pagamento da quantia atualizada do débito no importe de R$ 835,45 (oitocentos e trinta e cinco reais e quarenta e cinco centavos), referente à Contribuição Sindical Rural do(s) Exercício(s) de 2015, conforme os Demonstrativos da Constituição do Crédito ora inclusos e integrantes desta petição inicial, bem como, que seja o Réu condenado ao pagamento dos juros, multa e correção monetária (art. 600, CLT) até a data da efetiva quitação, das custas processuais e honorários advocatícios de 15%, sobre o valor da condenação. Ou seja: R$ 125,31 (cento e vinte e cinco reais e trinta e um centavos), valor este estimado com base no valor da causa.\"\\r\\n\\r\\nTendo em vista que, após o advento da Reforma Trabalhista, as iniciais devem ser líquidas, eu entendo que este pedido já estava liquidado no momento da propositura, e que o valor de juros e a correção conta-se apenas a partir da data do ajuizamento até o dia em que for efetivamente liquidado. \\r\\n\\r\\nCom o advento da nova redação do artigo 840, parágrafo 1º, parte final, pode o juiz extrapolar o valor indicado na inicial? Isto é, aplicando juros e correção pretéritos ao ajuizamento?\\r\\n\\r\\nGrata desde já.\\r\\n\\t\\t\\t\\t'\n",
      "\n",
      "\n",
      "'\\r\\n\\t\\t\\t\\t\\t\\r\\n\\t\\t\\t\\t\\tOlá, colegas.\\r\\n\\r\\nAlguém tem experiência com ações trabalhistas que seguem o rito sumário? Me deparei com uma sentença irrecorrível em que a juíza não analisou bem a matéria de defesa e as provas constantes dos autos (usou uma sentença genérica).\\r\\nAlguns falam que deve ser apresentado Recurso Extraordinário direto ao STF se houver matéria constitucional a ser debatida, outros falam que a matéria constitucional pode ser alegada em Recurso Ordinário.\\r\\n\\r\\nNão sei o que fazer. Tenho medo de seguir por um caminho e depois falarem que eu deveria ter seguido pelo outro.\\r\\n\\r\\nDesde já agradeço.\\r\\n\\t\\t\\t\\t'\n",
      "\n",
      "\n",
      "'\\r\\n\\t\\t\\t\\t\\t\\r\\n\\t\\t\\t\\t\\tPrezados, Drs.\\r\\n\\r\\nPrimeira vez que utilizo este forum, se fiz alguma coisa errada, perdao.\\r\\n\\r\\nAdvogamos para uma empresa, a qual tem um funcionario afastado erroneamente, foi afastado por auxilio doença acidentário quando era axilio doença previdenciario.\\r\\n\\r\\nNeste momento, posteriomente a 6 meses de afastamento, o funcionário retornou e a empresa quer dispensa-lo.\\r\\n\\r\\nOcorre que pelo erro de espécie de benefício, ele se enquadra na estabilidade por acidente de trabalho, qual a medida a ser tomada para empresa poder dispensa-lo neste momento, sem ter que aguardar a resposta do INSS sobre a retificação da espécie de auxilio doença?\\r\\n\\r\\nDesde já, agradeço os colegas.\\r\\n\\t\\t\\t\\t'\n",
      "\n",
      "\n",
      "'\\r\\n\\t\\t\\t\\t\\t\\r\\n\\t\\t\\t\\t\\tQueridos (as),\\r\\n\\r\\nUm cliente , por anos, recebia 1.300 reais na carteira e cerca de 2mil + comissão que variava entre 03 a 04 mil reais por fora.\\r\\nEle era vendedor de materiais hidráulicos. \\r\\nNão recebia DSR e as férias eram pagas apenas na metade.\\r\\n\\r\\nPara calcular o montante ao longo de 05 anos, devo contratar um contador especialista em cálculo trabalhista, tem algum site ou ferramenta que me auxiliaria...sou iniciante.\\r\\n\\r\\nObrigado!\\r\\n\\t\\t\\t\\t'\n",
      "\n",
      "\n",
      "'\\r\\n\\t\\t\\t\\t\\t\\r\\n\\t\\t\\t\\t\\tA empresa pode pagar alguns funcionários em um determinado dia e outros em outro dia?\\r\\n\\r\\nPor exemplo, na empresa a qual trabalho, pagou o salário de alguns funcionários no dia 31 de outubro, mas outros assim como eu não receberam. Sei que por lei a empresa pode pagar até o 5 dia útil, mas a minha duvida é se ela pode fazer essa distinção de funcionários, pagando alguns e deixando para pagar os outros em outro dia.\\r\\n\\t\\t\\t\\t'\n",
      "\n",
      "\n",
      "'\\r\\n\\t\\t\\t\\t\\t\\r\\n\\t\\t\\t\\t\\tBoa noite Doutores (as) \\r\\n\\r\\n\\r\\nPor gentileza, como vcs costumam cobrar da titulo de honorários contratuais com seus clientes reclamadas?\\r\\n\\r\\nNossa Tabela SP menciona um valor mínimo e um percentual de 20% a 30% sobre o valor da causa (do pedido) ou seja, se, ainda que por ventura o reclamante não tenha direito a 100 mil reais, mas dê a causa o valor de 100 mil reais, os honorários para defendermos a reclamada seriam nessa compreensão de R$ 20 mil reais ? seria isso?\\r\\n\\r\\nNão tenho habitualidade nessa prestação de serviços.\\r\\n\\r\\nDesde já muito obrigada.\\r\\n\\r\\nAtt.\\r\\n\\t\\t\\t\\t'\n",
      "\n",
      "\n",
      "'\\r\\n\\t\\t\\t\\t\\t\\r\\n\\t\\t\\t\\t\\tApós iniciado o cumprimento de sentença o reclamado pode fazer acordo para pagamento dos valores ao reclamante?\\r\\n\\r\\nE se esse acordo foi inferior ao devido no cumprimento de sentença o juíz irá concordar com isso?\\r\\n\\r\\nE comum o juiz não interferir no acordo ou o juiz irá exigir o pagamento integral conforme cumprimento de sentença?\\r\\n\\t\\t\\t\\t'\n",
      "\n",
      "\n",
      "'\\r\\n\\t\\t\\t\\t\\t\\r\\n\\t\\t\\t\\t\\tBoa noite.\\r\\nTenho duvidas quanto a viabilidade do uso da modalidade de demissão em comum acordo ou demissão consensual  durante o período em que um funcionário esta sob o regime de redução de jornada. É previsto que demissão por parte do empregador durante esse período só é viável ou por pagamento de multa ou normalmente porem após a mesma quantidade de meses que o empregado aderiu ao programa de redução de jornada.\\r\\n\\r\\nAssim visto, na modalidade de comum acordo, há aplicação de alguma destas condições (multa adicional ou período de estabilidade equivalente aos meses trabalhados com redução de jornada), ou esta permanece sem alterações no caso de um empregado que aderiu a redução de jornada propor demissão consensual?\\r\\n\\r\\nDesde já agradeço.\\r\\n\\t\\t\\t\\t'\n",
      "\n",
      "\n",
      "'\\r\\n\\t\\t\\t\\t\\t\\r\\n\\t\\t\\t\\t\\tQueiroz foi contratado em 20/01/2017 pelo Banco Safra para a função de caixa. Inicialmente cumpria jornada de trabalho de segunda a sexta-feira das 8h às 17h, com 1h de intervalo para repouso e alimentação, recebendo salário base de R$ 3.000,00 e gratificação de função de R$ 1.000,00. Depois de 01 (um) ano, Queiroz foi promovido para a função de gerente do atendimento, passando a perceber salário de R$ 4.000,00 e gratificação de R$ 2.000,00. Nesse período, a sua jornada era das 09h às 21h, de segunda-feira a sexta-feira, com 01h de intervalo intrajornada. Em janeiro/2019 Queiroz foi novamente promovido, alçando o cargo de gerente geral da agência onde trabalhava. Ocorre que no início deste ano (janeiro/2020) Queiroz foi dispensado. Na dúvida sobre seus direitos, procurou um advogado (você). Durante a entrevista Queiroz te relata que durante o contrato jamais recebeu horas extras e que gostaria de saber se teria esse direito. Mais ainda, Queiroz gostaria de saber quanto isso viria a representar em média por mês, em cada período. Na condição de advogado de Queiroz, qual seu parecer?\\r\\n\\t\\t\\t\\t'\n",
      "\n",
      "\n"
     ]
    }
   ],
   "source": [
    "# Printando as 10 primeiras strings em formato raw\n",
    "for i, post in enumerate(df['post'][:10]):\n",
    "    print(repr(df['post'].iloc[i]))\n",
    "    print('\\n')"
   ]
  },
  {
   "cell_type": "markdown",
   "metadata": {},
   "source": [
    "## 2.0 Criando um Pipeline de Limpeza"
   ]
  },
  {
   "cell_type": "code",
   "execution_count": 13,
   "metadata": {
    "ExecuteTime": {
     "end_time": "2021-08-11T13:50:06.547933Z",
     "start_time": "2021-08-11T13:50:06.535895Z"
    }
   },
   "outputs": [],
   "source": [
    "# Essa função substitui mais de um espaço em sequência (\\n\\t\\t\\t\\t) por apenas um espaço\n",
    "def remove_seq_breaklines(text):\n",
    "    clean_text = re.sub('\\s{2,}', ' ', text)\n",
    "    return clean_text"
   ]
  },
  {
   "cell_type": "code",
   "execution_count": 14,
   "metadata": {
    "ExecuteTime": {
     "end_time": "2021-08-11T13:50:07.625478Z",
     "start_time": "2021-08-11T13:50:07.607457Z"
    }
   },
   "outputs": [],
   "source": [
    "# Essa função substitui \\n por um espaço\n",
    "def remove_breaklines(text):\n",
    "    clean_text = re.sub('\\n', ' ', text)\n",
    "    return clean_text"
   ]
  },
  {
   "cell_type": "code",
   "execution_count": 15,
   "metadata": {
    "ExecuteTime": {
     "end_time": "2021-08-11T13:50:08.669132Z",
     "start_time": "2021-08-11T13:50:08.655129Z"
    }
   },
   "outputs": [],
   "source": [
    "def remove_seq_spaces(text):\n",
    "    clean_text = re.sub('[ ]{2,}', '', text)\n",
    "    return clean_text"
   ]
  },
  {
   "cell_type": "code",
   "execution_count": 16,
   "metadata": {
    "ExecuteTime": {
     "end_time": "2021-08-11T13:50:11.454084Z",
     "start_time": "2021-08-11T13:50:11.449087Z"
    }
   },
   "outputs": [],
   "source": [
    "# Essa função remove os espaços que existem no fim e no inicio\n",
    "def remove_spaces(text):\n",
    "    clean_text = text.strip(' ')\n",
    "    clean_text\n",
    "    return clean_text"
   ]
  },
  {
   "cell_type": "code",
   "execution_count": 17,
   "metadata": {
    "ExecuteTime": {
     "end_time": "2021-08-11T13:50:12.611421Z",
     "start_time": "2021-08-11T13:50:12.599415Z"
    }
   },
   "outputs": [],
   "source": [
    "# Essa função remove as pontuações e os números (ex: datas serão removidas)\n",
    "def remove_punctuation(text):\n",
    "    clean_text  = \"\".join([char for char in text if char not in string.punctuation])\n",
    "    clean_text = re.sub('[0-9]+', '', clean_text)\n",
    "    clean_text = clean_text.replace('º', '')\n",
    "    return clean_text"
   ]
  },
  {
   "cell_type": "code",
   "execution_count": 18,
   "metadata": {
    "ExecuteTime": {
     "end_time": "2021-08-11T13:50:14.082226Z",
     "start_time": "2021-08-11T13:50:14.079222Z"
    }
   },
   "outputs": [],
   "source": [
    "# Essa função converte textos em textos lowercase \n",
    "def convert_to_lower(text):\n",
    "    return text.lower()"
   ]
  },
  {
   "cell_type": "code",
   "execution_count": 19,
   "metadata": {
    "ExecuteTime": {
     "end_time": "2021-08-11T13:50:15.619298Z",
     "start_time": "2021-08-11T13:50:15.607301Z"
    }
   },
   "outputs": [],
   "source": [
    "# Essa função remove as stopwords\n",
    "def remove_stopwords(text):\n",
    "    stopwords = nltk.corpus.stopwords.words('portuguese')\n",
    "    clean_text = [word for word in text.split(' ') if word not in stopwords]\n",
    "   \n",
    "    return \" \".join(clean_text)\n"
   ]
  },
  {
   "cell_type": "code",
   "execution_count": 20,
   "metadata": {
    "ExecuteTime": {
     "end_time": "2021-08-11T13:50:17.124177Z",
     "start_time": "2021-08-11T13:50:17.111139Z"
    }
   },
   "outputs": [],
   "source": [
    "# Essa função aplica o stemming nas palavras\n",
    "def stemmatization(text):\n",
    "    stemmer = nltk.stem.RSLPStemmer()\n",
    "    split_text = text.split(' ')\n",
    "    stem_text = [stemmer.stem(word) for word in split_text if word != \"\"]\n",
    "    stem_text = \" \".join(stem_text)\n",
    "    \n",
    "    return stem_text"
   ]
  },
  {
   "cell_type": "code",
   "execution_count": 29,
   "metadata": {
    "ExecuteTime": {
     "end_time": "2021-08-11T13:52:49.201399Z",
     "start_time": "2021-08-11T13:52:49.186360Z"
    }
   },
   "outputs": [],
   "source": [
    "# Função que aplica o pipeline\n",
    "def run_clean_pipeline(text):\n",
    "    clean_text = remove_breaklines(text)\n",
    "    clean_text = remove_seq_breaklines(text)\n",
    "    clean_text = remove_spaces(text)\n",
    "    clean_text = remove_punctuation(clean_text)\n",
    "    clean_text = convert_to_lower(clean_text)\n",
    "    clean_text = remove_stopwords(clean_text)\n",
    "    clean_text = stemmatization(clean_text)\n",
    "\n",
    "    return clean_text\n",
    "    "
   ]
  },
  {
   "cell_type": "code",
   "execution_count": null,
   "metadata": {
    "ExecuteTime": {
     "start_time": "2021-08-11T08:03:36.859Z"
    }
   },
   "outputs": [],
   "source": [
    "# Fazendo a limpeza das linhas através do pipeline\n",
    "clean_posts = list(df['post'].apply(run_clean_pipeline))"
   ]
  },
  {
   "cell_type": "code",
   "execution_count": null,
   "metadata": {
    "ExecuteTime": {
     "start_time": "2021-08-11T08:03:36.863Z"
    },
    "scrolled": true
   },
   "outputs": [],
   "source": [
    "# Printa os 10 primeiras posts após a limpeza\n",
    "for post in clean_posts[:10]:\n",
    "    print(post)\n",
    "    print('\\n')"
   ]
  },
  {
   "cell_type": "code",
   "execution_count": null,
   "metadata": {
    "ExecuteTime": {
     "start_time": "2021-08-11T08:03:36.867Z"
    }
   },
   "outputs": [],
   "source": [
    "df['clean_posts'] = clean_posts"
   ]
  },
  {
   "cell_type": "code",
   "execution_count": null,
   "metadata": {
    "ExecuteTime": {
     "start_time": "2021-08-11T08:03:36.873Z"
    }
   },
   "outputs": [],
   "source": [
    "#df.to_csv('clean_data.csv')"
   ]
  },
  {
   "cell_type": "markdown",
   "metadata": {},
   "source": [
    "## 3.0 Preparação dos Dados"
   ]
  },
  {
   "cell_type": "code",
   "execution_count": 60,
   "metadata": {
    "ExecuteTime": {
     "end_time": "2021-08-11T15:18:21.006330Z",
     "start_time": "2021-08-11T15:18:19.985738Z"
    }
   },
   "outputs": [],
   "source": [
    "# Carrega os dados limpos (evita demoras na limpeza toda vez que rodar o script)\n",
    "df = pd.read_csv('clean_data.csv',  index_col=0).reset_index()"
   ]
  },
  {
   "cell_type": "markdown",
   "metadata": {},
   "source": [
    "### 3.1 Filtragem dos dados"
   ]
  },
  {
   "cell_type": "code",
   "execution_count": 61,
   "metadata": {
    "ExecuteTime": {
     "end_time": "2021-08-11T15:18:21.036331Z",
     "start_time": "2021-08-11T15:18:21.010352Z"
    }
   },
   "outputs": [],
   "source": [
    "# Drop da classe família para um melhor equilíbrio dos dados em um primeiro momento\n",
    "df = df[df['area'] != 'Familia']"
   ]
  },
  {
   "cell_type": "markdown",
   "metadata": {},
   "source": [
    "Testaremos o código sem a área \"Família\", pois é a que menos possui dados."
   ]
  },
  {
   "cell_type": "markdown",
   "metadata": {},
   "source": [
    "### 3.2 Codificação por Label"
   ]
  },
  {
   "cell_type": "code",
   "execution_count": 62,
   "metadata": {
    "ExecuteTime": {
     "end_time": "2021-08-11T15:18:21.066330Z",
     "start_time": "2021-08-11T15:18:21.041332Z"
    }
   },
   "outputs": [],
   "source": [
    "# Convertendo variáveis target para valores numéricos\n",
    "le = LabelEncoder()\n",
    "le.fit(df['area'])\n",
    "df['area_encoded'] = le.transform(df['area'])"
   ]
  },
  {
   "cell_type": "code",
   "execution_count": 63,
   "metadata": {
    "ExecuteTime": {
     "end_time": "2021-08-11T15:18:21.126329Z",
     "start_time": "2021-08-11T15:18:21.072333Z"
    }
   },
   "outputs": [],
   "source": [
    "# Salva o encoding das classes\n",
    "pickle.dump(model, open(\"../Modelo Final/class_encoding.pkl\", 'wb'))"
   ]
  },
  {
   "cell_type": "markdown",
   "metadata": {},
   "source": [
    "### 3.3 Split train/test"
   ]
  },
  {
   "cell_type": "code",
   "execution_count": 64,
   "metadata": {
    "ExecuteTime": {
     "end_time": "2021-08-11T15:18:21.156342Z",
     "start_time": "2021-08-11T15:18:21.129334Z"
    }
   },
   "outputs": [],
   "source": [
    "X_train, X_test, y_train, y_test = train_test_split(df[['clean_posts']], df['area_encoded'], test_size=0.33, shuffle = True, random_state = 42)"
   ]
  },
  {
   "cell_type": "markdown",
   "metadata": {
    "ExecuteTime": {
     "end_time": "2021-08-01T17:57:55.577533Z",
     "start_time": "2021-08-01T17:57:55.554536Z"
    }
   },
   "source": [
    "### 3.4 Transformação TF-IDF com Bigramas"
   ]
  },
  {
   "cell_type": "code",
   "execution_count": 65,
   "metadata": {
    "ExecuteTime": {
     "end_time": "2021-08-11T15:18:25.582358Z",
     "start_time": "2021-08-11T15:18:21.160332Z"
    }
   },
   "outputs": [],
   "source": [
    "# Transformação Tfidf utilizando bigramas\n",
    "tfidf_vectorizer = TfidfVectorizer(ngram_range = (2,2))\n",
    "\n",
    "train_tfidf = tfidf_vectorizer.fit_transform((X_train['clean_posts'].apply(lambda x: np.str_(x)))) \n",
    "test_tfidf = tfidf_vectorizer.transform((X_test['clean_posts'].apply(lambda x: np.str_(x))))"
   ]
  },
  {
   "cell_type": "code",
   "execution_count": 66,
   "metadata": {
    "ExecuteTime": {
     "end_time": "2021-08-11T15:18:25.851869Z",
     "start_time": "2021-08-11T15:18:25.584267Z"
    }
   },
   "outputs": [],
   "source": [
    "# Salva o Tfidf vectorizer\n",
    "pickle.dump(tfidf_vectorizer, open(\"../Modelo Final/tfidf_vect.pkl\", 'wb'))"
   ]
  },
  {
   "cell_type": "markdown",
   "metadata": {},
   "source": [
    "## 4.0 Modelo de Machine Learning"
   ]
  },
  {
   "cell_type": "markdown",
   "metadata": {},
   "source": [
    "### Multinomial Naive Bayes"
   ]
  },
  {
   "cell_type": "code",
   "execution_count": 67,
   "metadata": {
    "ExecuteTime": {
     "end_time": "2021-08-11T15:18:25.947768Z",
     "start_time": "2021-08-11T15:18:25.855777Z"
    }
   },
   "outputs": [
    {
     "data": {
      "text/plain": [
       "MultinomialNB()"
      ]
     },
     "execution_count": 67,
     "metadata": {},
     "output_type": "execute_result"
    }
   ],
   "source": [
    "model_nb = MultinomialNB()\n",
    "model_nb.fit(train_tfidf, y_train)"
   ]
  },
  {
   "cell_type": "code",
   "execution_count": 68,
   "metadata": {
    "ExecuteTime": {
     "end_time": "2021-08-11T15:18:25.994176Z",
     "start_time": "2021-08-11T15:18:25.951773Z"
    }
   },
   "outputs": [],
   "source": [
    "ypred_nb = model_nb.predict(test_tfidf)"
   ]
  },
  {
   "cell_type": "markdown",
   "metadata": {},
   "source": [
    "### SVM c/ Kernel Linear"
   ]
  },
  {
   "cell_type": "code",
   "execution_count": 69,
   "metadata": {
    "ExecuteTime": {
     "end_time": "2021-08-11T15:25:16.539377Z",
     "start_time": "2021-08-11T15:18:25.999177Z"
    }
   },
   "outputs": [
    {
     "data": {
      "text/plain": [
       "SVC(kernel='linear')"
      ]
     },
     "execution_count": 69,
     "metadata": {},
     "output_type": "execute_result"
    }
   ],
   "source": [
    "model_svm = SVC(kernel = 'linear')\n",
    "model_svm.fit(train_tfidf, y_train)"
   ]
  },
  {
   "cell_type": "code",
   "execution_count": 70,
   "metadata": {
    "ExecuteTime": {
     "end_time": "2021-08-11T15:26:34.030411Z",
     "start_time": "2021-08-11T15:25:16.542352Z"
    }
   },
   "outputs": [],
   "source": [
    "ypred_svm = model_svm.predict(test_tfidf)"
   ]
  },
  {
   "cell_type": "markdown",
   "metadata": {},
   "source": [
    "## 5.0 Avaliação dos Modelos"
   ]
  },
  {
   "cell_type": "markdown",
   "metadata": {},
   "source": [
    "Optei por utilizar Accuracy, Precision e Kappa Score por ser um problema de classificação multi-classe.\n",
    "\n",
    "- Accuracy mede o quão bem o modelo está fazendo as previsões.\n",
    "- Precision mede o quão bem o modelo está fazendo as predições dos True Positives\n",
    "- Kappa score é uma medida de concordância entre 2 estimadores, no caso, o modelo e o y_test."
   ]
  },
  {
   "cell_type": "markdown",
   "metadata": {},
   "source": [
    "### 5.1 Avaliação Individual do Modelo Multinomial Naive Bayes"
   ]
  },
  {
   "cell_type": "code",
   "execution_count": 71,
   "metadata": {
    "ExecuteTime": {
     "end_time": "2021-08-11T15:26:34.076382Z",
     "start_time": "2021-08-11T15:26:34.030411Z"
    },
    "scrolled": true
   },
   "outputs": [
    {
     "name": "stdout",
     "output_type": "stream",
     "text": [
      "Accuracy MNB: 0.8450430670494848\n",
      "Precision MNB: 0.8691727673700871\n",
      "Kappa Score MNB: 0.7885670362398532\n"
     ]
    }
   ],
   "source": [
    "print('Accuracy MNB:', accuracy_score(y_test, ypred_nb))\n",
    "print('Precision MNB:', precision_score(y_test, ypred_nb, average = 'macro' ))\n",
    "print('Kappa Score MNB:', cohen_kappa_score(y_test, ypred_nb))"
   ]
  },
  {
   "cell_type": "code",
   "execution_count": 72,
   "metadata": {
    "ExecuteTime": {
     "end_time": "2021-08-11T15:26:34.122539Z",
     "start_time": "2021-08-11T15:26:34.080383Z"
    },
    "scrolled": true
   },
   "outputs": [
    {
     "name": "stdout",
     "output_type": "stream",
     "text": [
      "              precision    recall  f1-score   support\n",
      "\n",
      "           0       0.86      0.92      0.89      3105\n",
      "           1       0.94      0.49      0.64      2246\n",
      "           2       0.77      0.96      0.86      3629\n",
      "           3       0.90      0.89      0.90      2862\n",
      "\n",
      "    accuracy                           0.85     11842\n",
      "   macro avg       0.87      0.82      0.82     11842\n",
      "weighted avg       0.86      0.85      0.84     11842\n",
      "\n"
     ]
    }
   ],
   "source": [
    "print(classification_report(y_test, ypred_nb))"
   ]
  },
  {
   "cell_type": "code",
   "execution_count": 73,
   "metadata": {
    "ExecuteTime": {
     "end_time": "2021-08-11T15:26:34.137547Z",
     "start_time": "2021-08-11T15:26:34.125551Z"
    }
   },
   "outputs": [
    {
     "name": "stdout",
     "output_type": "stream",
     "text": [
      "Administrativo 0\n",
      "Civil, Empresarial e do Consumidor 1\n",
      "Penal 2\n",
      "Trabalho 3\n"
     ]
    }
   ],
   "source": [
    "for area, label in zip(le.classes_, np.arange(0,5)):\n",
    "    print(area, label)"
   ]
  },
  {
   "cell_type": "code",
   "execution_count": 74,
   "metadata": {
    "ExecuteTime": {
     "end_time": "2021-08-11T15:26:34.382275Z",
     "start_time": "2021-08-11T15:26:34.140546Z"
    },
    "scrolled": true
   },
   "outputs": [
    {
     "data": {
      "text/plain": [
       "Text(33.0, 0.5, 'True Labels')"
      ]
     },
     "execution_count": 74,
     "metadata": {},
     "output_type": "execute_result"
    },
    {
     "data": {
      "image/png": "[encoded data removed]",
      "text/plain": [
       "<Figure size 432x288 with 2 Axes>"
      ]
     },
     "metadata": {
      "needs_background": "light"
     },
     "output_type": "display_data"
    }
   ],
   "source": [
    "sns.heatmap(confusion_matrix(y_test, ypred_nb),fmt = 'd', annot = True)\n",
    "plt.xlabel('Predictions')\n",
    "plt.ylabel('True Labels')"
   ]
  },
  {
   "cell_type": "markdown",
   "metadata": {},
   "source": [
    "### 5.2 Avaliação Individual para o Modelo SVM "
   ]
  },
  {
   "cell_type": "code",
   "execution_count": 75,
   "metadata": {
    "ExecuteTime": {
     "end_time": "2021-08-11T15:26:34.421795Z",
     "start_time": "2021-08-11T15:26:34.384272Z"
    }
   },
   "outputs": [
    {
     "name": "stdout",
     "output_type": "stream",
     "text": [
      "Accuracy SVM: 0.8919945955075156\n",
      "Precision SVM: 0.8866480671066653\n",
      "Kappa Score SVM: 0.8546391398068571\n"
     ]
    }
   ],
   "source": [
    "print('Accuracy SVM:', accuracy_score(y_test, ypred_svm))\n",
    "print('Precision SVM:', precision_score(y_test, ypred_svm, average = 'macro' ))\n",
    "print('Kappa Score SVM:', cohen_kappa_score(y_test, ypred_svm))"
   ]
  },
  {
   "cell_type": "code",
   "execution_count": 76,
   "metadata": {
    "ExecuteTime": {
     "end_time": "2021-08-11T15:26:34.451160Z",
     "start_time": "2021-08-11T15:26:34.421795Z"
    }
   },
   "outputs": [
    {
     "name": "stdout",
     "output_type": "stream",
     "text": [
      "              precision    recall  f1-score   support\n",
      "\n",
      "           0       0.92      0.93      0.92      3105\n",
      "           1       0.77      0.81      0.79      2246\n",
      "           2       0.90      0.92      0.91      3629\n",
      "           3       0.96      0.88      0.92      2862\n",
      "\n",
      "    accuracy                           0.89     11842\n",
      "   macro avg       0.89      0.88      0.89     11842\n",
      "weighted avg       0.89      0.89      0.89     11842\n",
      "\n"
     ]
    }
   ],
   "source": [
    "print(classification_report(y_test, ypred_svm))"
   ]
  },
  {
   "cell_type": "code",
   "execution_count": 77,
   "metadata": {
    "ExecuteTime": {
     "end_time": "2021-08-11T15:26:34.662201Z",
     "start_time": "2021-08-11T15:26:34.453745Z"
    }
   },
   "outputs": [
    {
     "data": {
      "text/plain": [
       "Text(33.0, 0.5, 'True Labels')"
      ]
     },
     "execution_count": 77,
     "metadata": {},
     "output_type": "execute_result"
    },
    {
     "data": {
      "image/png": "[encoded data removed]",
      "text/plain": [
       "<Figure size 432x288 with 2 Axes>"
      ]
     },
     "metadata": {
      "needs_background": "light"
     },
     "output_type": "display_data"
    }
   ],
   "source": [
    "sns.heatmap(confusion_matrix(y_test, ypred_svm),fmt = 'd', annot = True)\n",
    "plt.xlabel('Predictions')\n",
    "plt.ylabel('True Labels')"
   ]
  },
  {
   "cell_type": "markdown",
   "metadata": {},
   "source": [
    "### 5.3 Cross-Validation"
   ]
  },
  {
   "cell_type": "markdown",
   "metadata": {},
   "source": [
    "### CV - Multinomial Naive Bayes"
   ]
  },
  {
   "cell_type": "code",
   "execution_count": 78,
   "metadata": {
    "ExecuteTime": {
     "end_time": "2021-08-11T15:26:56.193997Z",
     "start_time": "2021-08-11T15:26:34.664076Z"
    }
   },
   "outputs": [
    {
     "name": "stdout",
     "output_type": "stream",
     "text": [
      "Fold: 1 / 5\n",
      "Fold: 2 / 5\n",
      "Fold: 3 / 5\n",
      "Fold: 4 / 5\n",
      "Fold: 5 / 5\n"
     ]
    }
   ],
   "source": [
    "num_folds = 5\n",
    "kfold = StratifiedKFold(n_splits = num_folds, shuffle = True, random_state = 42)\n",
    "\n",
    "accuracy_list = []\n",
    "precision_list = []\n",
    "kappa_list = []\n",
    "\n",
    "i = 1\n",
    "\n",
    "for train_ix, val_ix in kfold.split(df[['clean_posts']], df['area']):\n",
    "    print('Fold: {} / {}'.format(i, num_folds))\n",
    "    \n",
    "    X_train_fold = df.iloc[train_ix]\n",
    "    y_train_fold = df['area'].iloc[train_ix]\n",
    "    \n",
    "    X_val_fold = df.iloc[val_ix]\n",
    "    y_val_fold = df['area'].iloc[val_ix]\n",
    "    \n",
    "    tfidf_vectorizer = TfidfVectorizer(ngram_range = (2,2))\n",
    "\n",
    "    train_tfidf_fold = tfidf_vectorizer.fit_transform((X_train_fold['clean_posts'].apply(lambda x: np.str_(x)))) \n",
    "    val_tfidf_fold = tfidf_vectorizer.transform((X_val_fold['clean_posts'].apply(lambda x: np.str_(x))))\n",
    "    \n",
    "    model = MultinomialNB()\n",
    "    model.fit(train_tfidf_fold, y_train_fold)\n",
    "    \n",
    "    y_pred_cv = model.predict(val_tfidf_fold)\n",
    "    \n",
    "    #metrics\n",
    "    \n",
    "    #Accuracy\n",
    "    acc = accuracy_score(y_val_fold, y_pred_cv)\n",
    "    accuracy_list.append(acc)\n",
    "    \n",
    "    #Precision\n",
    "    prec = precision_score(y_val_fold, y_pred_cv, average = 'macro')\n",
    "    precision_list.append(prec)\n",
    "    \n",
    "    #Kappa\n",
    "    kappa = cohen_kappa_score(y_val_fold, y_pred_cv)\n",
    "    kappa_list.append(kappa)\n",
    "    \n",
    "    \n",
    "    i+=1\n",
    "    \n",
    "mnb_model = {\n",
    "            'Model' : 'Multinomial NB',\n",
    "            'Transformação': 'TF-IDF em bigramas',\n",
    "            'Accuracy': '{:.3f} +/- {:.3f}'.format(np.mean(accuracy_list),np.std(accuracy_list)),\n",
    "            'Precision': '{:.3f} +/- {:.3f}'.format(np.mean(precision_list),np.std(precision_list)),\n",
    "            'Kappa Score': '{:.3f} +/- {:.3f}'.format(np.mean(kappa_list),np.std(kappa_list))}"
   ]
  },
  {
   "cell_type": "code",
   "execution_count": 79,
   "metadata": {
    "ExecuteTime": {
     "end_time": "2021-08-11T15:26:56.582710Z",
     "start_time": "2021-08-11T15:26:56.193997Z"
    }
   },
   "outputs": [],
   "source": [
    "# Salva o modelo de multinomial naive bayes sem tunning\n",
    "pickle.dump(model, open(\"../Modelo Final/mnb_model.pkl\", 'wb'))"
   ]
  },
  {
   "cell_type": "code",
   "execution_count": 80,
   "metadata": {
    "ExecuteTime": {
     "end_time": "2021-08-11T15:26:56.595514Z",
     "start_time": "2021-08-11T15:26:56.584719Z"
    },
    "scrolled": true
   },
   "outputs": [
    {
     "name": "stdout",
     "output_type": "stream",
     "text": [
      "Cross-Validation MNB Evaluation:\n",
      "Accuracy MNB: 0.857 +/- 0.003\n",
      "Precision MNB: 0.878 +/- 0.003\n",
      "Kappa Score MNB: 0.805 +/- 0.004\n"
     ]
    }
   ],
   "source": [
    "print('Cross-Validation MNB Evaluation:')\n",
    "print('Accuracy MNB: {:.3f} +/- {:.3f}'.format(np.mean(accuracy_list),np.std(accuracy_list)))\n",
    "print('Precision MNB: {:.3f} +/- {:.3f}'.format(np.mean(precision_list),np.std(precision_list)))\n",
    "print('Kappa Score MNB: {:.3f} +/- {:.3f}'.format(np.mean(kappa_list),np.std(kappa_list)))"
   ]
  },
  {
   "cell_type": "markdown",
   "metadata": {},
   "source": [
    "### CV - SVM c/ Kernel Linear"
   ]
  },
  {
   "cell_type": "code",
   "execution_count": 81,
   "metadata": {
    "ExecuteTime": {
     "end_time": "2021-08-11T16:25:45.044401Z",
     "start_time": "2021-08-11T15:26:56.595514Z"
    }
   },
   "outputs": [
    {
     "name": "stdout",
     "output_type": "stream",
     "text": [
      "Fold: 1 / 5\n",
      "Fold: 2 / 5\n",
      "Fold: 3 / 5\n",
      "Fold: 4 / 5\n",
      "Fold: 5 / 5\n"
     ]
    }
   ],
   "source": [
    "num_folds = 5\n",
    "kfold = StratifiedKFold(n_splits = num_folds, shuffle = True, random_state = 42)\n",
    "\n",
    "accuracy_list = []\n",
    "precision_list = []\n",
    "kappa_list = []\n",
    "\n",
    "i = 1\n",
    "\n",
    "for train_ix, val_ix in kfold.split(df['clean_posts'], df['area']):\n",
    "    print('Fold: {} / {}'.format(i, num_folds))\n",
    "    \n",
    "    X_train_fold = df.iloc[train_ix]\n",
    "    y_train_fold = df['area'].iloc[train_ix]\n",
    "    \n",
    "    X_val_fold = df.iloc[val_ix]\n",
    "    y_val_fold = df['area'].iloc[val_ix]\n",
    "    \n",
    "    tfidf_vectorizer = TfidfVectorizer(ngram_range = (2,2))\n",
    "\n",
    "    train_tfidf_fold = tfidf_vectorizer.fit_transform((X_train_fold['clean_posts'].apply(lambda x: np.str_(x)))) \n",
    "    val_tfidf_fold = tfidf_vectorizer.transform((X_val_fold['clean_posts'].apply(lambda x: np.str_(x))))\n",
    "    \n",
    "    model = SVC(kernel='linear')\n",
    "    model.fit(train_tfidf_fold, y_train_fold)\n",
    "    \n",
    "    y_pred_cv = model.predict(val_tfidf_fold)\n",
    "    \n",
    "    #metrics\n",
    "    \n",
    "    #Accuracy\n",
    "    acc = accuracy_score(y_val_fold, y_pred_cv)\n",
    "    accuracy_list.append(acc)\n",
    "    \n",
    "    #Precision\n",
    "    prec = precision_score(y_val_fold, y_pred_cv, average = 'macro')\n",
    "    precision_list.append(prec)\n",
    "    \n",
    "    #Kappa\n",
    "    kappa = cohen_kappa_score(y_val_fold, y_pred_cv)\n",
    "    kappa_list.append(kappa)\n",
    "    \n",
    "    \n",
    "    i+=1\n",
    "    \n",
    "svm_model = {'Model' : 'SVM - Kernel Linear',\n",
    "            'Transformação': 'TF-IDF em bigramas',\n",
    "            'Accuracy': '{:.3f} +/- {:.3f}'.format(np.mean(accuracy_list),np.std(accuracy_list)),\n",
    "            'Precision': '{:.3f} +/- {:.3f}'.format(np.mean(precision_list),np.std(precision_list)),\n",
    "            'Kappa Score': '{:.3f} +/- {:.3f}'.format(np.mean(kappa_list),np.std(kappa_list))}    "
   ]
  },
  {
   "cell_type": "code",
   "execution_count": 82,
   "metadata": {
    "ExecuteTime": {
     "end_time": "2021-08-11T16:25:45.584800Z",
     "start_time": "2021-08-11T16:25:45.044401Z"
    }
   },
   "outputs": [],
   "source": [
    "# Salva o modelo de SVM sem tunning\n",
    "pickle.dump(model, open(\"../Modelo Final/svm_model.pkl\", 'wb'))"
   ]
  },
  {
   "cell_type": "code",
   "execution_count": 83,
   "metadata": {
    "ExecuteTime": {
     "end_time": "2021-08-11T16:25:45.607635Z",
     "start_time": "2021-08-11T16:25:45.587800Z"
    }
   },
   "outputs": [
    {
     "name": "stdout",
     "output_type": "stream",
     "text": [
      "Cross-Validation SVM Evaluation:\n",
      "Accuracy SVM: 0.900 +/- 0.005\n",
      "Precision SVM: 0.894 +/- 0.005\n",
      "Kappa Score SVM: 0.865 +/- 0.006\n"
     ]
    }
   ],
   "source": [
    "print('Cross-Validation SVM Evaluation:')\n",
    "print('Accuracy SVM: {:.3f} +/- {:.3f}'.format(np.mean(accuracy_list),np.std(accuracy_list)))\n",
    "print('Precision SVM: {:.3f} +/- {:.3f}'.format(np.mean(precision_list),np.std(precision_list)))\n",
    "print('Kappa Score SVM: {:.3f} +/- {:.3f}'.format(np.mean(kappa_list),np.std(kappa_list)))"
   ]
  },
  {
   "cell_type": "markdown",
   "metadata": {},
   "source": [
    "### 6.0 Hyper-tunning do melhor modelo:"
   ]
  },
  {
   "cell_type": "code",
   "execution_count": 84,
   "metadata": {
    "ExecuteTime": {
     "end_time": "2021-08-11T16:25:45.628885Z",
     "start_time": "2021-08-11T16:25:45.607635Z"
    }
   },
   "outputs": [],
   "source": [
    "# Define os parâmetros a serem testados\n",
    "param_grid = {'C': [0.1, 1, 10, 1000], \n",
    "              'gamma': [1, 0.01, 0.001],\n",
    "              'kernel': ['linear']} "
   ]
  },
  {
   "cell_type": "code",
   "execution_count": 85,
   "metadata": {
    "ExecuteTime": {
     "end_time": "2021-08-11T22:43:09.428887Z",
     "start_time": "2021-08-11T16:25:45.628885Z"
    }
   },
   "outputs": [
    {
     "name": "stdout",
     "output_type": "stream",
     "text": [
      "Fitting 5 folds for each of 12 candidates, totalling 60 fits\n",
      "[CV 1/5] END ..................C=0.1, gamma=1, kernel=linear; total time= 4.7min\n",
      "[CV 2/5] END ..................C=0.1, gamma=1, kernel=linear; total time= 4.7min\n",
      "[CV 3/5] END ..................C=0.1, gamma=1, kernel=linear; total time= 4.8min\n",
      "[CV 4/5] END ..................C=0.1, gamma=1, kernel=linear; total time= 4.7min\n",
      "[CV 5/5] END ..................C=0.1, gamma=1, kernel=linear; total time= 4.7min\n",
      "[CV 1/5] END ...............C=0.1, gamma=0.01, kernel=linear; total time= 4.7min\n",
      "[CV 2/5] END ...............C=0.1, gamma=0.01, kernel=linear; total time= 4.7min\n",
      "[CV 3/5] END ...............C=0.1, gamma=0.01, kernel=linear; total time= 4.7min\n",
      "[CV 4/5] END ...............C=0.1, gamma=0.01, kernel=linear; total time= 4.7min\n",
      "[CV 5/5] END ...............C=0.1, gamma=0.01, kernel=linear; total time= 4.7min\n",
      "[CV 1/5] END ..............C=0.1, gamma=0.001, kernel=linear; total time= 4.7min\n",
      "[CV 2/5] END ..............C=0.1, gamma=0.001, kernel=linear; total time= 4.7min\n",
      "[CV 3/5] END ..............C=0.1, gamma=0.001, kernel=linear; total time= 4.7min\n",
      "[CV 4/5] END ..............C=0.1, gamma=0.001, kernel=linear; total time= 4.7min\n",
      "[CV 5/5] END ..............C=0.1, gamma=0.001, kernel=linear; total time= 4.7min\n",
      "[CV 1/5] END ....................C=1, gamma=1, kernel=linear; total time= 3.5min\n",
      "[CV 2/5] END ....................C=1, gamma=1, kernel=linear; total time= 3.5min\n",
      "[CV 3/5] END ....................C=1, gamma=1, kernel=linear; total time= 3.5min\n",
      "[CV 4/5] END ....................C=1, gamma=1, kernel=linear; total time= 3.5min\n",
      "[CV 5/5] END ....................C=1, gamma=1, kernel=linear; total time= 3.5min\n",
      "[CV 1/5] END .................C=1, gamma=0.01, kernel=linear; total time= 3.5min\n",
      "[CV 2/5] END .................C=1, gamma=0.01, kernel=linear; total time= 3.5min\n",
      "[CV 3/5] END .................C=1, gamma=0.01, kernel=linear; total time= 3.5min\n",
      "[CV 4/5] END .................C=1, gamma=0.01, kernel=linear; total time= 3.5min\n",
      "[CV 5/5] END .................C=1, gamma=0.01, kernel=linear; total time= 3.5min\n",
      "[CV 1/5] END ................C=1, gamma=0.001, kernel=linear; total time= 3.5min\n",
      "[CV 2/5] END ................C=1, gamma=0.001, kernel=linear; total time= 3.5min\n",
      "[CV 3/5] END ................C=1, gamma=0.001, kernel=linear; total time= 3.5min\n",
      "[CV 4/5] END ................C=1, gamma=0.001, kernel=linear; total time= 4.3min\n",
      "[CV 5/5] END ................C=1, gamma=0.001, kernel=linear; total time= 4.2min\n",
      "[CV 1/5] END ...................C=10, gamma=1, kernel=linear; total time= 3.8min\n",
      "[CV 2/5] END ...................C=10, gamma=1, kernel=linear; total time= 4.0min\n",
      "[CV 3/5] END ...................C=10, gamma=1, kernel=linear; total time= 3.6min\n",
      "[CV 4/5] END ...................C=10, gamma=1, kernel=linear; total time= 3.2min\n",
      "[CV 5/5] END ...................C=10, gamma=1, kernel=linear; total time= 3.1min\n",
      "[CV 1/5] END ................C=10, gamma=0.01, kernel=linear; total time= 3.1min\n",
      "[CV 2/5] END ................C=10, gamma=0.01, kernel=linear; total time= 3.1min\n",
      "[CV 3/5] END ................C=10, gamma=0.01, kernel=linear; total time= 3.1min\n",
      "[CV 4/5] END ................C=10, gamma=0.01, kernel=linear; total time= 3.3min\n",
      "[CV 5/5] END ................C=10, gamma=0.01, kernel=linear; total time= 3.3min\n",
      "[CV 1/5] END ...............C=10, gamma=0.001, kernel=linear; total time= 3.2min\n",
      "[CV 2/5] END ...............C=10, gamma=0.001, kernel=linear; total time= 3.3min\n",
      "[CV 3/5] END ...............C=10, gamma=0.001, kernel=linear; total time= 3.4min\n",
      "[CV 4/5] END ...............C=10, gamma=0.001, kernel=linear; total time= 3.6min\n",
      "[CV 5/5] END ...............C=10, gamma=0.001, kernel=linear; total time= 3.5min\n",
      "[CV 1/5] END .................C=1000, gamma=1, kernel=linear; total time= 3.9min\n",
      "[CV 2/5] END .................C=1000, gamma=1, kernel=linear; total time= 3.7min\n",
      "[CV 3/5] END .................C=1000, gamma=1, kernel=linear; total time= 3.9min\n",
      "[CV 4/5] END .................C=1000, gamma=1, kernel=linear; total time= 4.3min\n",
      "[CV 5/5] END .................C=1000, gamma=1, kernel=linear; total time= 3.9min\n",
      "[CV 1/5] END ..............C=1000, gamma=0.01, kernel=linear; total time= 3.9min\n",
      "[CV 2/5] END ..............C=1000, gamma=0.01, kernel=linear; total time= 3.9min\n",
      "[CV 3/5] END ..............C=1000, gamma=0.01, kernel=linear; total time= 5.0min\n",
      "[CV 4/5] END ..............C=1000, gamma=0.01, kernel=linear; total time= 4.9min\n",
      "[CV 5/5] END ..............C=1000, gamma=0.01, kernel=linear; total time= 4.7min\n",
      "[CV 1/5] END .............C=1000, gamma=0.001, kernel=linear; total time= 4.4min\n",
      "[CV 2/5] END .............C=1000, gamma=0.001, kernel=linear; total time= 3.8min\n",
      "[CV 3/5] END .............C=1000, gamma=0.001, kernel=linear; total time= 3.5min\n",
      "[CV 4/5] END .............C=1000, gamma=0.001, kernel=linear; total time= 3.9min\n",
      "[CV 5/5] END .............C=1000, gamma=0.001, kernel=linear; total time= 4.1min\n",
      "{'C': 1, 'gamma': 1, 'kernel': 'linear'}\n",
      "SVC(C=1, gamma=1, kernel='linear')\n"
     ]
    }
   ],
   "source": [
    "# Utilização do Grid Search como algoritmo de tunning\n",
    "grid = GridSearchCV(SVC(), param_grid, scoring = 'accuracy', refit = True, return_train_score=True, verbose = 3)\n",
    "  \n",
    "# Fit do modelo \n",
    "grid.fit(train_tfidf, y_train)\n",
    "\n",
    "# Melhores parâmetros encontrados\n",
    "print(grid.best_params_)\n",
    "  \n",
    "# Modelo após o hyper-tunning\n",
    "print(grid.best_estimator_)\n",
    "\n"
   ]
  },
  {
   "cell_type": "code",
   "execution_count": 86,
   "metadata": {
    "ExecuteTime": {
     "end_time": "2021-08-11T22:51:04.649855Z",
     "start_time": "2021-08-11T22:43:09.440892Z"
    }
   },
   "outputs": [
    {
     "data": {
      "text/plain": [
       "SVC(C=1, gamma=1, kernel='linear')"
      ]
     },
     "execution_count": 86,
     "metadata": {},
     "output_type": "execute_result"
    }
   ],
   "source": [
    "# Cria um modelo utilizando os parâmetros encontrados\n",
    "final_model = SVC(**grid.best_params_)\n",
    "final_model.fit(train_tfidf, y_train)"
   ]
  },
  {
   "cell_type": "code",
   "execution_count": 87,
   "metadata": {
    "ExecuteTime": {
     "end_time": "2021-08-11T22:51:04.878172Z",
     "start_time": "2021-08-11T22:51:04.653833Z"
    }
   },
   "outputs": [],
   "source": [
    "# Salva o modelo de SVM após o tunning\n",
    "pickle.dump(final_model, open(\"../Modelo Final/svm_final_model_tuned.pkl\", 'wb'))"
   ]
  },
  {
   "cell_type": "code",
   "execution_count": 88,
   "metadata": {
    "ExecuteTime": {
     "end_time": "2021-08-11T22:52:23.992904Z",
     "start_time": "2021-08-11T22:51:04.882862Z"
    }
   },
   "outputs": [],
   "source": [
    "ypred_final = final_model.predict(test_tfidf)"
   ]
  },
  {
   "cell_type": "code",
   "execution_count": 89,
   "metadata": {
    "ExecuteTime": {
     "end_time": "2021-08-11T22:52:24.102906Z",
     "start_time": "2021-08-11T22:52:23.998910Z"
    },
    "scrolled": true
   },
   "outputs": [
    {
     "name": "stdout",
     "output_type": "stream",
     "text": [
      "Accuracy Final Model: 0.8919945955075156\n",
      "Precision Final Model: 0.8866480671066653\n",
      "Kappa Score Final Model: 0.8546391398068571\n"
     ]
    }
   ],
   "source": [
    "print('Accuracy Final Model:', accuracy_score(y_test, ypred_final))\n",
    "print('Precision Final Model:', precision_score(y_test, ypred_final, average = 'macro' ))\n",
    "print('Kappa Score Final Model:', cohen_kappa_score(y_test, ypred_final))"
   ]
  },
  {
   "cell_type": "code",
   "execution_count": 90,
   "metadata": {
    "ExecuteTime": {
     "end_time": "2021-08-11T23:53:01.071883Z",
     "start_time": "2021-08-11T22:52:24.106912Z"
    }
   },
   "outputs": [
    {
     "name": "stdout",
     "output_type": "stream",
     "text": [
      "Fold: 1 / 5\n",
      "Fold: 2 / 5\n",
      "Fold: 3 / 5\n",
      "Fold: 4 / 5\n",
      "Fold: 5 / 5\n"
     ]
    }
   ],
   "source": [
    "# Realiza a cross-validation após hyper-tunning \n",
    "num_folds = 5\n",
    "kfold = StratifiedKFold(n_splits = num_folds, shuffle = True, random_state = 42)\n",
    "\n",
    "accuracy_list = []\n",
    "precision_list = []\n",
    "kappa_list = []\n",
    "\n",
    "i = 1\n",
    "\n",
    "for train_ix, val_ix in kfold.split(df['clean_posts'], df['area']):\n",
    "    print('Fold: {} / {}'.format(i, num_folds))\n",
    "    \n",
    "    X_train_fold = df.iloc[train_ix]\n",
    "    y_train_fold = df['area'].iloc[train_ix]\n",
    "    \n",
    "    X_val_fold = df.iloc[val_ix]\n",
    "    y_val_fold = df['area'].iloc[val_ix]\n",
    "    \n",
    "    tfidf_vectorizer = TfidfVectorizer(ngram_range = (2,2))\n",
    "\n",
    "    train_tfidf_fold = tfidf_vectorizer.fit_transform((X_train_fold['clean_posts'].apply(lambda x: np.str_(x)))) \n",
    "    val_tfidf_fold = tfidf_vectorizer.transform((X_val_fold['clean_posts'].apply(lambda x: np.str_(x))))\n",
    "    \n",
    "    model = SVC(C = 1, gamma = 1, kernel='linear')\n",
    "    model.fit(train_tfidf_fold, y_train_fold)\n",
    "    \n",
    "    y_pred_cv = model.predict(val_tfidf_fold)\n",
    "    \n",
    "    #metrics\n",
    "    \n",
    "    #Accuracy\n",
    "    acc = accuracy_score(y_val_fold, y_pred_cv)\n",
    "    accuracy_list.append(acc)\n",
    "    \n",
    "    #Precision\n",
    "    prec = precision_score(y_val_fold, y_pred_cv, average = 'macro')\n",
    "    precision_list.append(prec)\n",
    "    \n",
    "    #Kappa\n",
    "    kappa = cohen_kappa_score(y_val_fold, y_pred_cv)\n",
    "    kappa_list.append(kappa)\n",
    "    \n",
    "    \n",
    "    i+=1\n",
    "    \n",
    "svm_model_tunned = {'Model' : 'SVM - Kernel Linear após Tunning',\n",
    "            'Transformação': 'TF-IDF em bigramas',\n",
    "            'Accuracy': '{:.3f} +/- {:.3f}'.format(np.mean(accuracy_list),np.std(accuracy_list)),\n",
    "            'Precision': '{:.3f} +/- {:.3f}'.format(np.mean(precision_list),np.std(precision_list)),\n",
    "            'Kappa Score': '{:.3f} +/- {:.3f}'.format(np.mean(kappa_list),np.std(kappa_list))}    "
   ]
  },
  {
   "cell_type": "code",
   "execution_count": 91,
   "metadata": {
    "ExecuteTime": {
     "end_time": "2021-08-11T23:53:01.087788Z",
     "start_time": "2021-08-11T23:53:01.075787Z"
    }
   },
   "outputs": [
    {
     "name": "stdout",
     "output_type": "stream",
     "text": [
      "Cross-Validation SVM after tunning Evaluation:\n",
      "Accuracy SVM: 0.900 +/- 0.005\n",
      "Precision SVM: 0.894 +/- 0.005\n",
      "Kappa Score SVM: 0.865 +/- 0.006\n"
     ]
    }
   ],
   "source": [
    "print('Cross-Validation SVM after tunning Evaluation:')\n",
    "print('Accuracy SVM: {:.3f} +/- {:.3f}'.format(np.mean(accuracy_list),np.std(accuracy_list)))\n",
    "print('Precision SVM: {:.3f} +/- {:.3f}'.format(np.mean(precision_list),np.std(precision_list)))\n",
    "print('Kappa Score SVM: {:.3f} +/- {:.3f}'.format(np.mean(kappa_list),np.std(kappa_list)))"
   ]
  },
  {
   "cell_type": "markdown",
   "metadata": {},
   "source": [
    "## 7.0 Comparativo dos modelos testados:\n"
   ]
  },
  {
   "cell_type": "code",
   "execution_count": 92,
   "metadata": {
    "ExecuteTime": {
     "end_time": "2021-08-11T23:53:01.103788Z",
     "start_time": "2021-08-11T23:53:01.090791Z"
    }
   },
   "outputs": [],
   "source": [
    "comp_models = [mnb_model, svm_model, svm_model_tunned]"
   ]
  },
  {
   "cell_type": "code",
   "execution_count": 93,
   "metadata": {
    "ExecuteTime": {
     "end_time": "2021-08-11T23:53:01.385337Z",
     "start_time": "2021-08-11T23:53:01.107787Z"
    },
    "scrolled": true
   },
   "outputs": [
    {
     "data": {
      "text/html": [
       "<div>\n",
       "<style scoped>\n",
       "    .dataframe tbody tr th:only-of-type {\n",
       "        vertical-align: middle;\n",
       "    }\n",
       "\n",
       "    .dataframe tbody tr th {\n",
       "        vertical-align: top;\n",
       "    }\n",
       "\n",
       "    .dataframe thead th {\n",
       "        text-align: right;\n",
       "    }\n",
       "</style>\n",
       "<table border=\"1\" class=\"dataframe\">\n",
       "  <thead>\n",
       "    <tr style=\"text-align: right;\">\n",
       "      <th></th>\n",
       "      <th>Model</th>\n",
       "      <th>Transformação</th>\n",
       "      <th>Accuracy</th>\n",
       "      <th>Precision</th>\n",
       "      <th>Kappa Score</th>\n",
       "    </tr>\n",
       "  </thead>\n",
       "  <tbody>\n",
       "    <tr>\n",
       "      <th>0</th>\n",
       "      <td>Multinomial NB</td>\n",
       "      <td>TF-IDF em bigramas</td>\n",
       "      <td>0.857 +/- 0.003</td>\n",
       "      <td>0.878 +/- 0.003</td>\n",
       "      <td>0.805 +/- 0.004</td>\n",
       "    </tr>\n",
       "    <tr>\n",
       "      <th>1</th>\n",
       "      <td>SVM - Kernel Linear</td>\n",
       "      <td>TF-IDF em bigramas</td>\n",
       "      <td>0.900 +/- 0.005</td>\n",
       "      <td>0.894 +/- 0.005</td>\n",
       "      <td>0.865 +/- 0.006</td>\n",
       "    </tr>\n",
       "    <tr>\n",
       "      <th>2</th>\n",
       "      <td>SVM - Kernel Linear após Tunning</td>\n",
       "      <td>TF-IDF em bigramas</td>\n",
       "      <td>0.900 +/- 0.005</td>\n",
       "      <td>0.894 +/- 0.005</td>\n",
       "      <td>0.865 +/- 0.006</td>\n",
       "    </tr>\n",
       "  </tbody>\n",
       "</table>\n",
       "</div>"
      ],
      "text/plain": [
       "                              Model       Transformação         Accuracy  \\\n",
       "0                    Multinomial NB  TF-IDF em bigramas  0.857 +/- 0.003   \n",
       "1               SVM - Kernel Linear  TF-IDF em bigramas  0.900 +/- 0.005   \n",
       "2  SVM - Kernel Linear após Tunning  TF-IDF em bigramas  0.900 +/- 0.005   \n",
       "\n",
       "         Precision      Kappa Score  \n",
       "0  0.878 +/- 0.003  0.805 +/- 0.004  \n",
       "1  0.894 +/- 0.005  0.865 +/- 0.006  \n",
       "2  0.894 +/- 0.005  0.865 +/- 0.006  "
      ]
     },
     "execution_count": 93,
     "metadata": {},
     "output_type": "execute_result"
    }
   ],
   "source": [
    "pd.DataFrame(comp_models, index=np.arange(0, len(comp_models)))"
   ]
  },
  {
   "cell_type": "markdown",
   "metadata": {},
   "source": [
    "## 8.0 Prevendo novos dados:"
   ]
  },
  {
   "cell_type": "code",
   "execution_count": 94,
   "metadata": {
    "ExecuteTime": {
     "end_time": "2021-08-11T23:53:02.426665Z",
     "start_time": "2021-08-11T23:53:01.388342Z"
    }
   },
   "outputs": [],
   "source": [
    "model = pickle.load(open(\"../Modelo Final/svm_final_model_tuned.pkl\", 'rb'))\n",
    "tfidf_vectorizer = pickle.load(open(\"../Modelo Final/tfidf_vect.pkl\", 'rb'))"
   ]
  },
  {
   "cell_type": "code",
   "execution_count": 95,
   "metadata": {
    "ExecuteTime": {
     "end_time": "2021-08-11T23:53:02.843447Z",
     "start_time": "2021-08-11T23:53:02.429555Z"
    }
   },
   "outputs": [
    {
     "name": "stdout",
     "output_type": "stream",
     "text": [
      "Baseado na sua pergunta, nosso sistema recomenda você procurar um advogado especializado na área Administrativo.\n"
     ]
    }
   ],
   "source": [
    "pergunta1 = 'Hugo, corretor de imóveis, recebe oferta de contrato, por prazo indeterminado, para intermediar a realização de negócios sobre novo empreendimento imobiliário, cujo lançamento ocorrerá em data próxima, obtendo as seguintes informações: (i) as características gerais do empreendimento, com a descrição da planta, da área e do valor de cada unidade autônoma projetada, em condomínio edilício; (ii) o valor oferecido em remuneração pelos serviços de corretagem correspondente a 4% sobre o valor da venda.     * A responsabilidade por dano ambiental é objetiva e orientada pela teoria do risco integral, introduzindo o nexo de causalidade no próprio ato ensejador do dano. Entusiasmado, Hugo entra em contato com diversos clientes (potenciais compradores), a fim de mediar a celebração de compromissos de compra e venda com o dono do negócio. Nesse ínterim, consegue marcar uma reunião entre o incorporador (dono do negócio) e seu melhor cliente, sócio de uma grande rede de farmácias, pretendendo adquirir a loja principal do empreendimento. Após a reunião, em que as partes se mostraram interessadas em prosseguir com as negociações, nenhum dos futuros contratantes tornou a responder ao corretor, que não mais atuou nesse empreendimento, ante a sua dispensa. Soube, meses depois, que o negócio havia sido fechado entre o incorporador e o comprador, em negociação direta, ao valor de R$ 5.000.000,00 (cinco milhões de reais).  '\n",
    "pergunta2 = 'A Administração Pública é autorizada a praticar todos os atos que a lei não veda?  * A administração direta é o conjunto de órgãos que integram as pessoas federativas que realizam a prestação de serviços de  forma  direta  pelos  próprios  entes  políticos  da Administração?'\n",
    "\n",
    "#Load pickles \n",
    "model = pickle.load(open(\"../Modelo Final/svm_final_model_tuned.pkl\", 'rb'))\n",
    "tfidf_vectorizer = pickle.load(open(\"../Modelo Final/tfidf_vect.pkl\", 'rb'))\n",
    "le_enc = pickle.load(open(\"../Modelo Final/class_encoding.pkl\", 'rb'))\n",
    "\n",
    "# Pipeline\n",
    "clean_data = run_clean_pipeline(pergunta2)\n",
    "clean_data_transf = tfidf_vectorizer.transform([clean_data])\n",
    "\n",
    "# Final model\n",
    "class_pred = model.predict(clean_data_transf)\n",
    "\n",
    "print(\"Baseado na sua pergunta, nosso sistema recomenda você procurar um advogado especializado na área {}.\".format(le_enc.classes_[class_pred[0]]))"
   ]
  },
  {
   "cell_type": "markdown",
   "metadata": {},
   "source": [
    "## Sugestões de Melhorias:\n",
    "\n",
    "- ~~Utilização de SVM c/ Linear Kernel~~\n",
    "- ~~Utilização de Bigramas antes da transformação TF-IDF com o MultinomialNB ou o SVM LK~~\n",
    "- Utilização de Redes Neurais - LSTM -> **Acredito que a acurácia já alcançou valores muito satisfatórios, então não será necessário.**\n",
    "- SMOTE para um melhor balanceamento das classes -> **Alcançamos um balanceamento ok dos dados apenas removendo a classe Família**\n",
    "- Análise da Nuvem de palavras pra cada classe, a fim de identificar quais termos aparecem com mais frequência dependendo da classe -> **Fazer isso é importante**\n",
    "- ~~Redução de dimensionalidade~~ -> **cai muito a precisão**"
   ]
  }
 ],
 "metadata": {
  "interpreter": {
   "hash": "f073831f69cd3c6d3e66726246945d904cffd54393bb30d63848c4ab17154cac"
  },
  "kernelspec": {
   "display_name": "Python 3",
   "language": "python",
   "name": "python3"
  },
  "language_info": {
   "codemirror_mode": {
    "name": "ipython",
    "version": 3
   },
   "file_extension": ".py",
   "mimetype": "text/x-python",
   "name": "python",
   "nbconvert_exporter": "python",
   "pygments_lexer": "ipython3",
   "version": "3.7.1"
  }
 },
 "nbformat": 4,
 "nbformat_minor": 4
}
