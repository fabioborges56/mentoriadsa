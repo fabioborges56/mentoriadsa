{
 "cells": [
  {
   "cell_type": "markdown",
   "metadata": {},
   "source": [
    "# Mentoria Data Science Academy"
   ]
  },
  {
   "cell_type": "markdown",
   "metadata": {},
   "source": [
    "## Imports"
   ]
  },
  {
   "cell_type": "code",
   "execution_count": 189,
   "metadata": {
    "ExecuteTime": {
     "end_time": "2021-07-19T20:49:02.791583Z",
     "start_time": "2021-07-19T20:49:02.771607Z"
    }
   },
   "outputs": [
    {
     "name": "stderr",
     "output_type": "stream",
     "text": [
      "[nltk_data] Downloading package stopwords to\n",
      "[nltk_data]     C:\\Users\\joaop\\AppData\\Roaming\\nltk_data...\n",
      "[nltk_data]   Package stopwords is already up-to-date!\n",
      "[nltk_data] Downloading package rslp to\n",
      "[nltk_data]     C:\\Users\\joaop\\AppData\\Roaming\\nltk_data...\n",
      "[nltk_data]   Package rslp is already up-to-date!\n"
     ]
    },
    {
     "data": {
      "text/plain": [
       "True"
      ]
     },
     "execution_count": 189,
     "metadata": {},
     "output_type": "execute_result"
    }
   ],
   "source": [
    "import numpy as np\n",
    "import pandas as pd\n",
    "import re\n",
    "import string\n",
    "import nltk\n",
    "import os\n",
    "\n",
    "\n",
    "\n",
    "\n",
    "# Downloads do pacote NLTK\n",
    "nltk.download('stopwords')\n",
    "nltk.download('rslp')"
   ]
  },
  {
   "cell_type": "markdown",
   "metadata": {
    "ExecuteTime": {
     "end_time": "2021-07-19T19:18:43.393429Z",
     "start_time": "2021-07-19T19:18:43.373439Z"
    }
   },
   "source": [
    "## 0.0 Carregando os Dados"
   ]
  },
  {
   "cell_type": "code",
   "execution_count": 192,
   "metadata": {
    "ExecuteTime": {
     "end_time": "2021-07-19T20:49:55.219502Z",
     "start_time": "2021-07-19T20:49:55.068403Z"
    }
   },
   "outputs": [],
   "source": [
    "data_path = 'Scrapping/dados'\n",
    "df1 = pd.read_csv(os.path.join(data_path, 'posts.csv'), sep = '|')\n",
    "df2 = pd.read_csv(os.path.join(data_path, 'posts_2.csv'), sep = '|')"
   ]
  },
  {
   "cell_type": "code",
   "execution_count": 196,
   "metadata": {
    "ExecuteTime": {
     "end_time": "2021-07-19T20:50:51.812498Z",
     "start_time": "2021-07-19T20:50:51.788497Z"
    }
   },
   "outputs": [],
   "source": [
    "df = pd.concat([df1, df2], axis = 0)"
   ]
  },
  {
   "cell_type": "code",
   "execution_count": 197,
   "metadata": {
    "ExecuteTime": {
     "end_time": "2021-07-19T20:50:53.822793Z",
     "start_time": "2021-07-19T20:50:53.796797Z"
    },
    "scrolled": true
   },
   "outputs": [
    {
     "data": {
      "text/html": [
       "<div>\n",
       "<style scoped>\n",
       "    .dataframe tbody tr th:only-of-type {\n",
       "        vertical-align: middle;\n",
       "    }\n",
       "\n",
       "    .dataframe tbody tr th {\n",
       "        vertical-align: top;\n",
       "    }\n",
       "\n",
       "    .dataframe thead th {\n",
       "        text-align: right;\n",
       "    }\n",
       "</style>\n",
       "<table border=\"1\" class=\"dataframe\">\n",
       "  <thead>\n",
       "    <tr style=\"text-align: right;\">\n",
       "      <th></th>\n",
       "      <th>title</th>\n",
       "      <th>date</th>\n",
       "      <th>answers</th>\n",
       "      <th>visits</th>\n",
       "      <th>url</th>\n",
       "      <th>post</th>\n",
       "      <th>area</th>\n",
       "    </tr>\n",
       "  </thead>\n",
       "  <tbody>\n",
       "    <tr>\n",
       "      <th>0</th>\n",
       "      <td>recurso cabível exceção de preexecutividade re...</td>\n",
       "      <td>11 de Março de 2021</td>\n",
       "      <td>1</td>\n",
       "      <td>1.0</td>\n",
       "      <td>threads/recurso-cabivel-excecao-de-preexecutiv...</td>\n",
       "      <td>\\n\\t\\t\\t\\t\\t\\n\\t\\t\\t\\t\\tBoas tardes, caros col...</td>\n",
       "      <td>direito-do-trabalho.17</td>\n",
       "    </tr>\n",
       "    <tr>\n",
       "      <th>1</th>\n",
       "      <td>Liquidez - Reforma Trabalhista</td>\n",
       "      <td>06 de Março de 2021</td>\n",
       "      <td>0</td>\n",
       "      <td>6.0</td>\n",
       "      <td>threads/liquidez-reforma-trabalhista.23092/</td>\n",
       "      <td>\\n\\t\\t\\t\\t\\t\\n\\t\\t\\t\\t\\tBoa noite, colegas.\\n\\...</td>\n",
       "      <td>direito-do-trabalho.17</td>\n",
       "    </tr>\n",
       "    <tr>\n",
       "      <th>2</th>\n",
       "      <td>Rito Sumário - sentença irrecorrível?</td>\n",
       "      <td>06 de Março de 2021</td>\n",
       "      <td>0</td>\n",
       "      <td>6.0</td>\n",
       "      <td>threads/rito-sumario-sentenca-irrecorrivel.23091/</td>\n",
       "      <td>\\n\\t\\t\\t\\t\\t\\n\\t\\t\\t\\t\\tOlá, colegas.\\n\\nAlgué...</td>\n",
       "      <td>direito-do-trabalho.17</td>\n",
       "    </tr>\n",
       "    <tr>\n",
       "      <th>3</th>\n",
       "      <td>DISPENSA DE FUNCIONARIO AFASTADO EM ESPECIE DE...</td>\n",
       "      <td>27 de Janeiro de 2021</td>\n",
       "      <td>0</td>\n",
       "      <td>9.0</td>\n",
       "      <td>threads/dispensa-de-funcionario-afastado-em-es...</td>\n",
       "      <td>\\n\\t\\t\\t\\t\\t\\n\\t\\t\\t\\t\\tPrezados, Drs.\\n\\nPrim...</td>\n",
       "      <td>direito-do-trabalho.17</td>\n",
       "    </tr>\n",
       "    <tr>\n",
       "      <th>4</th>\n",
       "      <td>Cálculo Trabalhista - contador ou advogado?</td>\n",
       "      <td>03 de Maio de 2018</td>\n",
       "      <td>8</td>\n",
       "      <td>1.0</td>\n",
       "      <td>threads/calculo-trabalhista-contador-ou-advoga...</td>\n",
       "      <td>\\n\\t\\t\\t\\t\\t\\n\\t\\t\\t\\t\\tQueridos (as),\\n\\nUm c...</td>\n",
       "      <td>direito-do-trabalho.17</td>\n",
       "    </tr>\n",
       "  </tbody>\n",
       "</table>\n",
       "</div>"
      ],
      "text/plain": [
       "                                               title                   date  \\\n",
       "0  recurso cabível exceção de preexecutividade re...    11 de Março de 2021   \n",
       "1                     Liquidez - Reforma Trabalhista    06 de Março de 2021   \n",
       "2              Rito Sumário - sentença irrecorrível?    06 de Março de 2021   \n",
       "3  DISPENSA DE FUNCIONARIO AFASTADO EM ESPECIE DE...  27 de Janeiro de 2021   \n",
       "4        Cálculo Trabalhista - contador ou advogado?     03 de Maio de 2018   \n",
       "\n",
       "   answers  visits                                                url  \\\n",
       "0        1     1.0  threads/recurso-cabivel-excecao-de-preexecutiv...   \n",
       "1        0     6.0        threads/liquidez-reforma-trabalhista.23092/   \n",
       "2        0     6.0  threads/rito-sumario-sentenca-irrecorrivel.23091/   \n",
       "3        0     9.0  threads/dispensa-de-funcionario-afastado-em-es...   \n",
       "4        8     1.0  threads/calculo-trabalhista-contador-ou-advoga...   \n",
       "\n",
       "                                                post                    area  \n",
       "0  \\n\\t\\t\\t\\t\\t\\n\\t\\t\\t\\t\\tBoas tardes, caros col...  direito-do-trabalho.17  \n",
       "1  \\n\\t\\t\\t\\t\\t\\n\\t\\t\\t\\t\\tBoa noite, colegas.\\n\\...  direito-do-trabalho.17  \n",
       "2  \\n\\t\\t\\t\\t\\t\\n\\t\\t\\t\\t\\tOlá, colegas.\\n\\nAlgué...  direito-do-trabalho.17  \n",
       "3  \\n\\t\\t\\t\\t\\t\\n\\t\\t\\t\\t\\tPrezados, Drs.\\n\\nPrim...  direito-do-trabalho.17  \n",
       "4  \\n\\t\\t\\t\\t\\t\\n\\t\\t\\t\\t\\tQueridos (as),\\n\\nUm c...  direito-do-trabalho.17  "
      ]
     },
     "execution_count": 197,
     "metadata": {},
     "output_type": "execute_result"
    }
   ],
   "source": [
    "df.head()"
   ]
  },
  {
   "cell_type": "markdown",
   "metadata": {},
   "source": [
    "## 1.0 Descrição dos dados"
   ]
  },
  {
   "cell_type": "markdown",
   "metadata": {},
   "source": [
    "### 1.1 Dimensão dos dados"
   ]
  },
  {
   "cell_type": "code",
   "execution_count": 198,
   "metadata": {
    "ExecuteTime": {
     "end_time": "2021-07-19T20:50:56.156886Z",
     "start_time": "2021-07-19T20:50:56.138902Z"
    },
    "scrolled": true
   },
   "outputs": [
    {
     "name": "stdout",
     "output_type": "stream",
     "text": [
      "Número de exemplos: 5826\n",
      "Número de colunas: 7\n"
     ]
    }
   ],
   "source": [
    "print(\"Número de exemplos:\", df.shape[0])\n",
    "print(\"Número de colunas:\", df.shape[1])"
   ]
  },
  {
   "cell_type": "markdown",
   "metadata": {},
   "source": [
    "### 1.2 Tipo das colunas"
   ]
  },
  {
   "cell_type": "code",
   "execution_count": 199,
   "metadata": {
    "ExecuteTime": {
     "end_time": "2021-07-19T20:50:58.776610Z",
     "start_time": "2021-07-19T20:50:58.754616Z"
    },
    "scrolled": true
   },
   "outputs": [
    {
     "data": {
      "text/plain": [
       "title       object\n",
       "date        object\n",
       "answers      int64\n",
       "visits     float64\n",
       "url         object\n",
       "post        object\n",
       "area        object\n",
       "dtype: object"
      ]
     },
     "execution_count": 199,
     "metadata": {},
     "output_type": "execute_result"
    }
   ],
   "source": [
    "# Mostra o tipo de cada variável\n",
    "df.dtypes"
   ]
  },
  {
   "cell_type": "markdown",
   "metadata": {
    "ExecuteTime": {
     "end_time": "2021-07-19T19:23:59.783562Z",
     "start_time": "2021-07-19T19:23:59.778559Z"
    }
   },
   "source": [
    "### 1.3 Variável target "
   ]
  },
  {
   "cell_type": "markdown",
   "metadata": {},
   "source": [
    "### 1.3.1 Classes únicas\n"
   ]
  },
  {
   "cell_type": "code",
   "execution_count": 200,
   "metadata": {
    "ExecuteTime": {
     "end_time": "2021-07-19T20:51:02.111029Z",
     "start_time": "2021-07-19T20:51:02.100061Z"
    },
    "scrolled": false
   },
   "outputs": [
    {
     "data": {
      "text/plain": [
       "array(['direito-do-trabalho.17', 'direito-de-familia.11',\n",
       "       'direito-administrativo.15',\n",
       "       'direito-civil-empresarial-e-do-consumidor.10',\n",
       "       'direito-penal-e-processo-penal.12', 'empresarial'], dtype=object)"
      ]
     },
     "execution_count": 200,
     "metadata": {},
     "output_type": "execute_result"
    }
   ],
   "source": [
    "# Check de quais classes o dataset possui\n",
    "df['area'].unique()"
   ]
  },
  {
   "cell_type": "code",
   "execution_count": 201,
   "metadata": {
    "ExecuteTime": {
     "end_time": "2021-07-19T20:51:22.220193Z",
     "start_time": "2021-07-19T20:51:22.214191Z"
    }
   },
   "outputs": [
    {
     "name": "stdout",
     "output_type": "stream",
     "text": [
      "Número de classes diferentes:  6\n"
     ]
    }
   ],
   "source": [
    "print(\"Número de classes diferentes: \", len(df['area'].unique()))"
   ]
  },
  {
   "cell_type": "markdown",
   "metadata": {},
   "source": [
    "### 1.3.2 Verificando o balanceamento das classes"
   ]
  },
  {
   "cell_type": "code",
   "execution_count": 202,
   "metadata": {
    "ExecuteTime": {
     "end_time": "2021-07-19T20:51:25.041666Z",
     "start_time": "2021-07-19T20:51:25.027666Z"
    },
    "scrolled": true
   },
   "outputs": [
    {
     "data": {
      "text/plain": [
       "direito-civil-empresarial-e-do-consumidor.10    33.882595\n",
       "direito-de-familia.11                           28.046687\n",
       "direito-do-trabalho.17                          20.116718\n",
       "direito-penal-e-processo-penal.12               11.465843\n",
       "direito-administrativo.15                        6.316512\n",
       "empresarial                                      0.171644\n",
       "Name: area, dtype: float64"
      ]
     },
     "execution_count": 202,
     "metadata": {},
     "output_type": "execute_result"
    }
   ],
   "source": [
    "# Verifica em porcentagem o balanço das classes\n",
    "df['area'].value_counts(normalize=True)*100"
   ]
  },
  {
   "cell_type": "markdown",
   "metadata": {},
   "source": [
    "**Observações:** A classe direito admnistrativo é a que apresenta menos classes."
   ]
  },
  {
   "cell_type": "markdown",
   "metadata": {},
   "source": [
    " ## 2.0 Limpeza dos dados"
   ]
  },
  {
   "cell_type": "markdown",
   "metadata": {},
   "source": [
    "### 2.1 Visualizando os dados em formato RAW"
   ]
  },
  {
   "cell_type": "code",
   "execution_count": 203,
   "metadata": {
    "ExecuteTime": {
     "end_time": "2021-07-19T20:51:31.118485Z",
     "start_time": "2021-07-19T20:51:31.109516Z"
    },
    "scrolled": true
   },
   "outputs": [
    {
     "name": "stdout",
     "output_type": "stream",
     "text": [
      "'\\n\\t\\t\\t\\t\\t\\n\\t\\t\\t\\t\\tBoas tardes, caros colegas\\n\\nAntes de mais nada, sinto um imenso prazer em visitar esse fórum, por ter me ajudado e muito.\\nPreciso da opinião dos colegas, no seguinte assunto trabalhista.\\n\\nAcontece que a exceção de pre-executividade trabalhista  proposta em favor da cliente fora rejeitada, nesse caso cabe algum recurso....pois segundo uma pesquisa que efetuei, consta que o agravo de petição não é cabível por ser decisão interlocutória, agradeço desde já.\\n\\t\\t\\t\\t'\n",
      "\n",
      "\n",
      "'\\n\\t\\t\\t\\t\\t\\n\\t\\t\\t\\t\\tBoa noite, colegas.\\n\\nCuido de uma ação de cobrança de contribuição sindical rural proposta pelo rito sumário. Por fim o autor requereu: \\n\\n\"a condenação do Réu ao pagamento da quantia atualizada do débito no importe de R$ 835,45 (oitocentos e trinta e cinco reais e quarenta e cinco centavos), referente à Contribuição Sindical Rural do(s) Exercício(s) de 2015, conforme os Demonstrativos da Constituição do Crédito ora inclusos e integrantes desta petição inicial, bem como, que seja o Réu condenado ao pagamento dos juros, multa e correção monetária (art. 600, CLT) até a data da efetiva quitação, das custas processuais e honorários advocatícios de 15%, sobre o valor da condenação. Ou seja: R$ 125,31 (cento e vinte e cinco reais e trinta e um centavos), valor este estimado com base no valor da causa.\"\\n\\nTendo em vista que, após o advento da Reforma Trabalhista, as iniciais devem ser líquidas, eu entendo que este pedido já estava liquidado no momento da propositura, e que o valor de juros e a correção conta-se apenas a partir da data do ajuizamento até o dia em que for efetivamente liquidado. \\n\\nCom o advento da nova redação do artigo 840, parágrafo 1º, parte final, pode o juiz extrapolar o valor indicado na inicial? Isto é, aplicando juros e correção pretéritos ao ajuizamento?\\n\\nGrata desde já.\\n\\t\\t\\t\\t'\n",
      "\n",
      "\n",
      "'\\n\\t\\t\\t\\t\\t\\n\\t\\t\\t\\t\\tOlá, colegas.\\n\\nAlguém tem experiência com ações trabalhistas que seguem o rito sumário? Me deparei com uma sentença irrecorrível em que a juíza não analisou bem a matéria de defesa e as provas constantes dos autos (usou uma sentença genérica).\\nAlguns falam que deve ser apresentado Recurso Extraordinário direto ao STF se houver matéria constitucional a ser debatida, outros falam que a matéria constitucional pode ser alegada em Recurso Ordinário.\\n\\nNão sei o que fazer. Tenho medo de seguir por um caminho e depois falarem que eu deveria ter seguido pelo outro.\\n\\nDesde já agradeço.\\n\\t\\t\\t\\t'\n",
      "\n",
      "\n",
      "'\\n\\t\\t\\t\\t\\t\\n\\t\\t\\t\\t\\tPrezados, Drs.\\n\\nPrimeira vez que utilizo este forum, se fiz alguma coisa errada, perdao.\\n\\nAdvogamos para uma empresa, a qual tem um funcionario afastado erroneamente, foi afastado por auxilio doença acidentário quando era axilio doença previdenciario.\\n\\nNeste momento, posteriomente a 6 meses de afastamento, o funcionário retornou e a empresa quer dispensa-lo.\\n\\nOcorre que pelo erro de espécie de benefício, ele se enquadra na estabilidade por acidente de trabalho, qual a medida a ser tomada para empresa poder dispensa-lo neste momento, sem ter que aguardar a resposta do INSS sobre a retificação da espécie de auxilio doença?\\n\\nDesde já, agradeço os colegas.\\n\\t\\t\\t\\t'\n",
      "\n",
      "\n",
      "'\\n\\t\\t\\t\\t\\t\\n\\t\\t\\t\\t\\tQueridos (as),\\n\\nUm cliente , por anos, recebia 1.300 reais na carteira e cerca de 2mil + comissão que variava entre 03 a 04 mil reais por fora.\\nEle era vendedor de materiais hidráulicos. \\nNão recebia DSR e as férias eram pagas apenas na metade.\\n\\nPara calcular o montante ao longo de 05 anos, devo contratar um contador especialista em cálculo trabalhista, tem algum site ou ferramenta que me auxiliaria...sou iniciante.\\n\\nObrigado!\\n\\t\\t\\t\\t'\n",
      "\n",
      "\n",
      "'\\n\\t\\t\\t\\t\\t\\n\\t\\t\\t\\t\\tA empresa pode pagar alguns funcionários em um determinado dia e outros em outro dia?\\n\\nPor exemplo, na empresa a qual trabalho, pagou o salário de alguns funcionários no dia 31 de outubro, mas outros assim como eu não receberam. Sei que por lei a empresa pode pagar até o 5 dia útil, mas a minha duvida é se ela pode fazer essa distinção de funcionários, pagando alguns e deixando para pagar os outros em outro dia.\\n\\t\\t\\t\\t'\n",
      "\n",
      "\n",
      "'\\n\\t\\t\\t\\t\\t\\n\\t\\t\\t\\t\\tBoa noite Doutores (as) \\n\\n\\nPor gentileza, como vcs costumam cobrar da titulo de honorários contratuais com seus clientes reclamadas?\\n\\nNossa Tabela SP menciona um valor mínimo e um percentual de 20% a 30% sobre o valor da causa (do pedido) ou seja, se, ainda que por ventura o reclamante não tenha direito a 100 mil reais, mas dê a causa o valor de 100 mil reais, os honorários para defendermos a reclamada seriam nessa compreensão de R$ 20 mil reais ? seria isso?\\n\\nNão tenho habitualidade nessa prestação de serviços.\\n\\nDesde já muito obrigada.\\n\\nAtt.\\n\\t\\t\\t\\t'\n",
      "\n",
      "\n",
      "'\\n\\t\\t\\t\\t\\t\\n\\t\\t\\t\\t\\tApós iniciado o cumprimento de sentença o reclamado pode fazer acordo para pagamento dos valores ao reclamante?\\n\\nE se esse acordo foi inferior ao devido no cumprimento de sentença o juíz irá concordar com isso?\\n\\nE comum o juiz não interferir no acordo ou o juiz irá exigir o pagamento integral conforme cumprimento de sentença?\\n\\t\\t\\t\\t'\n",
      "\n",
      "\n",
      "'\\n\\t\\t\\t\\t\\t\\n\\t\\t\\t\\t\\tBoa noite.\\nTenho duvidas quanto a viabilidade do uso da modalidade de demissão em comum acordo ou demissão consensual  durante o período em que um funcionário esta sob o regime de redução de jornada. É previsto que demissão por parte do empregador durante esse período só é viável ou por pagamento de multa ou normalmente porem após a mesma quantidade de meses que o empregado aderiu ao programa de redução de jornada.\\n\\nAssim visto, na modalidade de comum acordo, há aplicação de alguma destas condições (multa adicional ou período de estabilidade equivalente aos meses trabalhados com redução de jornada), ou esta permanece sem alterações no caso de um empregado que aderiu a redução de jornada propor demissão consensual?\\n\\nDesde já agradeço.\\n\\t\\t\\t\\t'\n",
      "\n",
      "\n",
      "'\\n\\t\\t\\t\\t\\t\\n\\t\\t\\t\\t\\tQueiroz foi contratado em 20/01/2017 pelo Banco Safra para a função de caixa. Inicialmente cumpria jornada de trabalho de segunda a sexta-feira das 8h às 17h, com 1h de intervalo para repouso e alimentação, recebendo salário base de R$ 3.000,00 e gratificação de função de R$ 1.000,00. Depois de 01 (um) ano, Queiroz foi promovido para a função de gerente do atendimento, passando a perceber salário de R$ 4.000,00 e gratificação de R$ 2.000,00. Nesse período, a sua jornada era das 09h às 21h, de segunda-feira a sexta-feira, com 01h de intervalo intrajornada. Em janeiro/2019 Queiroz foi novamente promovido, alçando o cargo de gerente geral da agência onde trabalhava. Ocorre que no início deste ano (janeiro/2020) Queiroz foi dispensado. Na dúvida sobre seus direitos, procurou um advogado (você). Durante a entrevista Queiroz te relata que durante o contrato jamais recebeu horas extras e que gostaria de saber se teria esse direito. Mais ainda, Queiroz gostaria de saber quanto isso viria a representar em média por mês, em cada período. Na condição de advogado de Queiroz, qual seu parecer?\\n\\t\\t\\t\\t'\n",
      "\n",
      "\n"
     ]
    }
   ],
   "source": [
    "# Printando as 10 primeiras strings em formato raw\n",
    "for i, post in enumerate(df['post'][:10]):\n",
    "    print(repr(df['post'].iloc[i]))\n",
    "    print('\\n')"
   ]
  },
  {
   "cell_type": "markdown",
   "metadata": {},
   "source": [
    "## 2.2 Criando um Pipeline de Limpeza"
   ]
  },
  {
   "cell_type": "code",
   "execution_count": 204,
   "metadata": {
    "ExecuteTime": {
     "end_time": "2021-07-19T20:51:35.960321Z",
     "start_time": "2021-07-19T20:51:35.955332Z"
    }
   },
   "outputs": [],
   "source": [
    "# Essa função substitui mais de um espaço em sequência (\\n\\t\\t\\t\\t) por apenas um espaço\n",
    "def remove_seq_breaklines(text):\n",
    "    clean_text = re.sub('\\s{2,}', ' ', text)\n",
    "    return clean_text"
   ]
  },
  {
   "cell_type": "code",
   "execution_count": 87,
   "metadata": {
    "ExecuteTime": {
     "end_time": "2021-07-19T20:13:37.088749Z",
     "start_time": "2021-07-19T20:13:37.075741Z"
    }
   },
   "outputs": [],
   "source": [
    "# Essa função substitui \\n por um espaço\n",
    "def remove_breaklines(text):\n",
    "    clean_text = re.sub('\\n', ' ', text)\n",
    "    return clean_text"
   ]
  },
  {
   "cell_type": "code",
   "execution_count": 151,
   "metadata": {
    "ExecuteTime": {
     "end_time": "2021-07-19T20:37:37.007027Z",
     "start_time": "2021-07-19T20:37:36.996022Z"
    }
   },
   "outputs": [],
   "source": [
    "# Essa função remove as pontuações e os números (ex: datas serão removidas)\n",
    "def remove_punctuation(text):\n",
    "    clean_text  = \"\".join([char for char in text if char not in string.punctuation])\n",
    "    clean_text = re.sub('[0-9]+', '', clean_text)\n",
    "    clean_text = clean_text.replace('º', '')\n",
    "    return clean_text"
   ]
  },
  {
   "cell_type": "code",
   "execution_count": 121,
   "metadata": {
    "ExecuteTime": {
     "end_time": "2021-07-19T20:25:02.945397Z",
     "start_time": "2021-07-19T20:25:02.931423Z"
    }
   },
   "outputs": [],
   "source": [
    "# Essa função converte textos em textos lowercase \n",
    "def convert_to_lower(text):\n",
    "    return text.lower()"
   ]
  },
  {
   "cell_type": "code",
   "execution_count": 108,
   "metadata": {
    "ExecuteTime": {
     "end_time": "2021-07-19T20:19:52.317097Z",
     "start_time": "2021-07-19T20:19:52.299097Z"
    }
   },
   "outputs": [],
   "source": [
    "# Essa função remove as stopwords\n",
    "def remove_stopwords(text):\n",
    "    stopwords = nltk.corpus.stopwords.words('portuguese')\n",
    "    clean_text = [word for word in text.split(' ') if word not in stopwords]\n",
    "   \n",
    "    return \" \".join(clean_text)\n"
   ]
  },
  {
   "cell_type": "code",
   "execution_count": 179,
   "metadata": {
    "ExecuteTime": {
     "end_time": "2021-07-19T20:46:09.812667Z",
     "start_time": "2021-07-19T20:46:09.806667Z"
    }
   },
   "outputs": [],
   "source": [
    "# Essa função aplica o stemming nas palavras\n",
    "def stemmatization(text):\n",
    "    stemmer = nltk.stem.RSLPStemmer()\n",
    "    split_text = text.split(' ')\n",
    "    stem_text = [stemmer.stem(word) for word in split_text if word != \"\"]\n",
    "    stem_text = \" \".join(stem_text)\n",
    "    \n",
    "    return stem_text"
   ]
  },
  {
   "cell_type": "code",
   "execution_count": 206,
   "metadata": {
    "ExecuteTime": {
     "end_time": "2021-07-19T20:52:09.389963Z",
     "start_time": "2021-07-19T20:52:09.370959Z"
    }
   },
   "outputs": [],
   "source": [
    "# Função que aplica o pipeline\n",
    "def run_clean_pipeline(text):\n",
    "    clean_text = remove_breaklines(text)\n",
    "    clean_text = remove_seq_breaklines(clean_text)\n",
    "    clean_text = remove_punctuation(clean_text)\n",
    "    clean_text = convert_to_lower(clean_text)\n",
    "    clean_text = remove_stopwords(clean_text)\n",
    "    clean_text = stemmatization(clean_text)\n",
    "\n",
    "    return clean_text\n",
    "    "
   ]
  },
  {
   "cell_type": "code",
   "execution_count": 209,
   "metadata": {
    "ExecuteTime": {
     "end_time": "2021-07-19T20:55:03.125901Z",
     "start_time": "2021-07-19T20:54:30.715905Z"
    }
   },
   "outputs": [],
   "source": [
    "# Fazendo a limpeza das linhas através do pipeline\n",
    "clean_posts = list(df['post'].apply(run_clean_pipeline))"
   ]
  },
  {
   "cell_type": "code",
   "execution_count": 210,
   "metadata": {
    "ExecuteTime": {
     "end_time": "2021-07-19T20:55:03.157899Z",
     "start_time": "2021-07-19T20:55:03.129899Z"
    }
   },
   "outputs": [
    {
     "name": "stdout",
     "output_type": "stream",
     "text": [
      "boa tard car coleg ant nad sint imens praz visit fórum ter ajud precis opin coleg seguint assunt trabalh acontec exceç preexecut trabalh propost favor client rejeit ness cas cab algum recursopoil segund pesquis efet const agrav pet cab ser decis interlocutór agradeç desd\n",
      "\n",
      "\n",
      "boa noit coleg cuid açã cobranç contribu sindic rural propost rit sum fim autor requer conden réu pag quant atual débit import r oitocent trint cinc real quarent cinc centav refer contribu sindic rural exercíci conform demonstr constitu crédit ora inclus integr dest pet inic bem réu conden pag jur mult correç monetár art clt dat efet quit cust process honor advocatíci sobr val conden r cent vint cinc real trint centav val estim bas val caus tend vist após advent reform trabalh inic dev ser líqu ent ped liquid moment proposit val jur correç contas apen part dat ajuiz dia efetiv liquid advent nov red artig parágraf part final pod juiz extrapol val indic inic aplic jur correç pretérit ajuiz grat desd\n",
      "\n",
      "\n",
      "olá coleg alguém experi açõ trabalh segu rit sum dep sentenç irrecorr juíz analis bem matér defês prov const aut usou sentenç genér algum fal dev ser apresent recurs extraordin diret stf matér constituc ser debat outr fal matér constituc pod ser aleg recurs ordin sei faz med segu caminh fal dev ter segu outr desd agradeç\n",
      "\n",
      "\n",
      "prez dr prim vez utiliz forum fiz algum cois err perda advog empr funcionari afast errone afast auxili doenç acident axili doenç previdenciari nest moment posteri mes afast funcion retorn empr qu dispensal ocorr err espéci benefíci enquadr estabil acid trabalh med ser tom empr pod dispensal nest moment ter aguard respost ins sobr retific espéci auxili doenç desd agradeç coleg\n",
      "\n",
      "\n",
      "quer client ano receb real cart cerc mil comiss vari mil real vend mater hidrául receb dsr férias pag apen metad calcul mont long ano dev contrat cont especi cálcul trabalh algum sit ferrament auxiliarias inici obrig\n",
      "\n",
      "\n",
      "empr pod pag algum funcion determin dia outr outr dia exempl empr trabalh pag salári algum funcion dia outubr outr assim receb sei lei empr pod pag dia útil duvid pod faz distinç funcion pag algum deix pag outr outr dia\n",
      "\n",
      "\n",
      "boa noit dou gentil vc costum cobr titul honor contrat client reclam tabel sp menc val mín percent sobr val caus ped aind vent reclam direit mil real dê caus val mil real honor defend reclam ness compreens r mil real habitual ness prest serviç desd obrig att\n",
      "\n",
      "\n",
      "após inici cumpr sentenç reclam pod faz acord pag val reclam acord inferi dev cumpr sentenç juíz irá concord comum juiz interfer acord juiz irá exig pag integr conform cumpr sentenç\n",
      "\n",
      "\n",
      "boa noit duvid quant viabil uso modal demiss comum acord demiss consens dur períod funcion sob regim reduç jorn previst demiss part empreg dur períod vi pag mult norm por após mesm quant mes empreg ader program reduç jorn assim vist modal comum acord aplic algum dest cond mult adic períod estabil equival mes trabalh reduç jorn permanec alter cas empreg ader reduç jorn prop demiss consens desd agradeç\n",
      "\n",
      "\n",
      "queiroz contrat banc safr funç caix inic cumpr jorn trabalh segund sextaf h h h interval repous aliment receb salári bas r gratific funç r ano queiroz promov funç gerent atend pass perceb salári r gratific r ness períod jorn h h segundaf sextaf h interval intrajorn jan queiroz nov promov alç carg gerent geral agênc ond trabalh ocorr iníci dest ano jan queiroz dispens dúv sobr direit procur advog dur entrev queiroz relat dur contrat jamal receb hor extr gost sab direit aind queiroz gost sab quant vir represent méd mê cad períod cond advog queiroz parec\n",
      "\n",
      "\n"
     ]
    }
   ],
   "source": [
    "# Printa os 10 primeiras posts após a limpeza\n",
    "for post in clean_posts[:10]:\n",
    "    print(post)\n",
    "    print('\\n')"
   ]
  },
  {
   "cell_type": "code",
   "execution_count": null,
   "metadata": {},
   "outputs": [],
   "source": []
  }
 ],
 "metadata": {
  "kernelspec": {
   "display_name": "Python 3",
   "language": "python",
   "name": "python3"
  },
  "language_info": {
   "codemirror_mode": {
    "name": "ipython",
    "version": 3
   },
   "file_extension": ".py",
   "mimetype": "text/x-python",
   "name": "python",
   "nbconvert_exporter": "python",
   "pygments_lexer": "ipython3",
   "version": "3.7.1"
  }
 },
 "nbformat": 4,
 "nbformat_minor": 4
}
